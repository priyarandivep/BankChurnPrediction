{
 "cells": [
  {
   "cell_type": "markdown",
   "id": "5aac1d0c",
   "metadata": {},
   "source": [
    "# BANKING CHURN ANALYSIS & MODELING"
   ]
  },
  {
   "cell_type": "markdown",
   "id": "daa6db94",
   "metadata": {},
   "source": [
    "### Problem Statement:\n",
    "\n",
    "1. Despite the continuous efforts of banks to attract and retain customers, the banking industry faces a persistent challenge in the form of customer churn, leading to financial losses and reduced customer satisfaction.\n",
    "\n",
    "2. It is advantageous for banks to know what leads a client towards the decision to leave the company."
   ]
  },
  {
   "cell_type": "markdown",
   "id": "50b527c5",
   "metadata": {},
   "source": [
    "### Project Objective:-\n",
    "\n",
    "1. The aim of this project is to analyze the customer churn rate for bank because it is useful to understand why the customers leave.\n",
    "2. After Analyzing we need to train a Machine Learning Model which can find the key factors that significantly influence the customer churn or attrition.\n",
    "3.In the end will choose the most reliable model that will attach a probability to the churn to make it easier for customer service to target right customer in order to minimize their efforts to prevent customers churn."
   ]
  },
  {
   "cell_type": "markdown",
   "id": "8387f3e3",
   "metadata": {},
   "source": [
    "### Project Overview:\n",
    "\n",
    "Churn refers to customers leaving a bank or discontinuing their banking services.\n",
    "Banking Churn Analysis is a process of studying customer behavior in the banking industry to predict and understand customer attrition or churn.\n",
    "Banking Churn Modeling aims to identify patterns and factors that contribute to customer churn, enabling banks to take proactive measures to retain customers and improve customer satisfaction."
   ]
  },
  {
   "cell_type": "markdown",
   "id": "f77df4ea",
   "metadata": {},
   "source": [
    "## IMPORTING LIBRARIES"
   ]
  },
  {
   "cell_type": "code",
   "execution_count": 1,
   "id": "ada9d469",
   "metadata": {},
   "outputs": [],
   "source": [
    "import pandas as pd\n",
    "import matplotlib.pyplot as plt\n",
    "import numpy as np\n",
    "import seaborn as sns\n",
    "import warnings\n",
    "warnings.filterwarnings(\"ignore\")\n",
    "import pickle\n",
    "import sklearn\n",
    "\n",
    "from sklearn.preprocessing import LabelEncoder , StandardScaler,OrdinalEncoder  # Encoding\n",
    "from sklearn.model_selection import train_test_split , GridSearchCV, RandomizedSearchCV # traing and tessting \n",
    "from imblearn.over_sampling import SMOTE\n",
    "from sklearn.neighbors import KNeighborsClassifier\n",
    "from sklearn.linear_model import LogisticRegression\n",
    "from sklearn.svm import SVC\n",
    "from sklearn.tree import DecisionTreeClassifier\n",
    "from sklearn.ensemble import RandomForestClassifier\n",
    "from sklearn.ensemble import AdaBoostClassifier\n",
    "from sklearn.ensemble import GradientBoostingClassifier\n",
    "from xgboost import  XGBClassifier\n",
    "\n",
    "from sklearn.metrics import classification_report, roc_auc_score, roc_curve, accuracy_score, log_loss\n"
   ]
  },
  {
   "cell_type": "markdown",
   "id": "bd50e484",
   "metadata": {},
   "source": [
    "## LOADING DATASET"
   ]
  },
  {
   "cell_type": "code",
   "execution_count": 2,
   "id": "5fb03e54",
   "metadata": {},
   "outputs": [
    {
     "name": "stdout",
     "output_type": "stream",
     "text": [
      "1.0.2\n"
     ]
    }
   ],
   "source": [
    "print(sklearn.__version__)\n"
   ]
  },
  {
   "cell_type": "code",
   "execution_count": 3,
   "id": "72bba83e",
   "metadata": {},
   "outputs": [
    {
     "name": "stdout",
     "output_type": "stream",
     "text": [
      "1.7.5\n"
     ]
    }
   ],
   "source": [
    "import xgboost as xgb\n",
    "print(xgb.__version__)"
   ]
  },
  {
   "cell_type": "code",
   "execution_count": 4,
   "id": "06e803c3",
   "metadata": {},
   "outputs": [],
   "source": [
    "df= pd.read_csv(\"Bank_Churn.csv\")"
   ]
  },
  {
   "cell_type": "code",
   "execution_count": 5,
   "id": "4d9d363a",
   "metadata": {},
   "outputs": [
    {
     "data": {
      "text/html": [
       "<div>\n",
       "<style scoped>\n",
       "    .dataframe tbody tr th:only-of-type {\n",
       "        vertical-align: middle;\n",
       "    }\n",
       "\n",
       "    .dataframe tbody tr th {\n",
       "        vertical-align: top;\n",
       "    }\n",
       "\n",
       "    .dataframe thead th {\n",
       "        text-align: right;\n",
       "    }\n",
       "</style>\n",
       "<table border=\"1\" class=\"dataframe\">\n",
       "  <thead>\n",
       "    <tr style=\"text-align: right;\">\n",
       "      <th></th>\n",
       "      <th>RowNumber</th>\n",
       "      <th>CustomerId</th>\n",
       "      <th>Surname</th>\n",
       "      <th>CreditScore</th>\n",
       "      <th>Geography</th>\n",
       "      <th>Gender</th>\n",
       "      <th>Age</th>\n",
       "      <th>Tenure</th>\n",
       "      <th>Balance</th>\n",
       "      <th>NumOfProducts</th>\n",
       "      <th>HasCrCard</th>\n",
       "      <th>IsActiveMember</th>\n",
       "      <th>EstimatedSalary</th>\n",
       "      <th>Exited</th>\n",
       "    </tr>\n",
       "  </thead>\n",
       "  <tbody>\n",
       "    <tr>\n",
       "      <th>0</th>\n",
       "      <td>1</td>\n",
       "      <td>15634602</td>\n",
       "      <td>Hargrave</td>\n",
       "      <td>619</td>\n",
       "      <td>France</td>\n",
       "      <td>Female</td>\n",
       "      <td>42</td>\n",
       "      <td>2</td>\n",
       "      <td>0.00</td>\n",
       "      <td>1</td>\n",
       "      <td>1</td>\n",
       "      <td>1</td>\n",
       "      <td>101348.88</td>\n",
       "      <td>1</td>\n",
       "    </tr>\n",
       "    <tr>\n",
       "      <th>1</th>\n",
       "      <td>2</td>\n",
       "      <td>15647311</td>\n",
       "      <td>Hill</td>\n",
       "      <td>608</td>\n",
       "      <td>Spain</td>\n",
       "      <td>Female</td>\n",
       "      <td>41</td>\n",
       "      <td>1</td>\n",
       "      <td>83807.86</td>\n",
       "      <td>1</td>\n",
       "      <td>0</td>\n",
       "      <td>1</td>\n",
       "      <td>112542.58</td>\n",
       "      <td>0</td>\n",
       "    </tr>\n",
       "    <tr>\n",
       "      <th>2</th>\n",
       "      <td>3</td>\n",
       "      <td>15619304</td>\n",
       "      <td>Onio</td>\n",
       "      <td>502</td>\n",
       "      <td>France</td>\n",
       "      <td>Female</td>\n",
       "      <td>42</td>\n",
       "      <td>8</td>\n",
       "      <td>159660.80</td>\n",
       "      <td>3</td>\n",
       "      <td>1</td>\n",
       "      <td>0</td>\n",
       "      <td>113931.57</td>\n",
       "      <td>1</td>\n",
       "    </tr>\n",
       "    <tr>\n",
       "      <th>3</th>\n",
       "      <td>4</td>\n",
       "      <td>15701354</td>\n",
       "      <td>Boni</td>\n",
       "      <td>699</td>\n",
       "      <td>France</td>\n",
       "      <td>Female</td>\n",
       "      <td>39</td>\n",
       "      <td>1</td>\n",
       "      <td>0.00</td>\n",
       "      <td>2</td>\n",
       "      <td>0</td>\n",
       "      <td>0</td>\n",
       "      <td>93826.63</td>\n",
       "      <td>0</td>\n",
       "    </tr>\n",
       "    <tr>\n",
       "      <th>4</th>\n",
       "      <td>5</td>\n",
       "      <td>15737888</td>\n",
       "      <td>Mitchell</td>\n",
       "      <td>850</td>\n",
       "      <td>Spain</td>\n",
       "      <td>Female</td>\n",
       "      <td>43</td>\n",
       "      <td>2</td>\n",
       "      <td>125510.82</td>\n",
       "      <td>1</td>\n",
       "      <td>1</td>\n",
       "      <td>1</td>\n",
       "      <td>79084.10</td>\n",
       "      <td>0</td>\n",
       "    </tr>\n",
       "  </tbody>\n",
       "</table>\n",
       "</div>"
      ],
      "text/plain": [
       "   RowNumber  CustomerId   Surname  CreditScore Geography  Gender  Age  \\\n",
       "0          1    15634602  Hargrave          619    France  Female   42   \n",
       "1          2    15647311      Hill          608     Spain  Female   41   \n",
       "2          3    15619304      Onio          502    France  Female   42   \n",
       "3          4    15701354      Boni          699    France  Female   39   \n",
       "4          5    15737888  Mitchell          850     Spain  Female   43   \n",
       "\n",
       "   Tenure    Balance  NumOfProducts  HasCrCard  IsActiveMember  \\\n",
       "0       2       0.00              1          1               1   \n",
       "1       1   83807.86              1          0               1   \n",
       "2       8  159660.80              3          1               0   \n",
       "3       1       0.00              2          0               0   \n",
       "4       2  125510.82              1          1               1   \n",
       "\n",
       "   EstimatedSalary  Exited  \n",
       "0        101348.88       1  \n",
       "1        112542.58       0  \n",
       "2        113931.57       1  \n",
       "3         93826.63       0  \n",
       "4         79084.10       0  "
      ]
     },
     "execution_count": 5,
     "metadata": {},
     "output_type": "execute_result"
    }
   ],
   "source": [
    "df.head()"
   ]
  },
  {
   "cell_type": "markdown",
   "id": "c2236199",
   "metadata": {},
   "source": [
    "## BASIC UNDERSTANDING OF DATASET"
   ]
  },
  {
   "cell_type": "markdown",
   "id": "0a49e0be",
   "metadata": {},
   "source": [
    "### 1. Checking the Dimensions of Dataset."
   ]
  },
  {
   "cell_type": "code",
   "execution_count": 6,
   "id": "475f3de6",
   "metadata": {},
   "outputs": [
    {
     "name": "stdout",
     "output_type": "stream",
     "text": [
      "Total Number of records/ rows present in the dataset is:  10000\n",
      "Total Number of columns present in the dataset is:  14\n"
     ]
    }
   ],
   "source": [
    "print(\"Total Number of records/ rows present in the dataset is: \", df.shape[0])\n",
    "print(\"Total Number of columns present in the dataset is: \", df.shape[1])"
   ]
  },
  {
   "cell_type": "markdown",
   "id": "369e36fd",
   "metadata": {},
   "source": [
    "\n",
    "### 2. Fetching the attributes Name"
   ]
  },
  {
   "cell_type": "code",
   "execution_count": 7,
   "id": "390117b9",
   "metadata": {},
   "outputs": [
    {
     "data": {
      "text/plain": [
       "Index(['RowNumber', 'CustomerId', 'Surname', 'CreditScore', 'Geography',\n",
       "       'Gender', 'Age', 'Tenure', 'Balance', 'NumOfProducts', 'HasCrCard',\n",
       "       'IsActiveMember', 'EstimatedSalary', 'Exited'],\n",
       "      dtype='object')"
      ]
     },
     "execution_count": 7,
     "metadata": {},
     "output_type": "execute_result"
    }
   ],
   "source": [
    "df.columns"
   ]
  },
  {
   "cell_type": "markdown",
   "id": "af2ef880",
   "metadata": {},
   "source": [
    "1. **RowNumber**—corresponds to the record (row) number and has no effect on the output.\n",
    "2.**CustomerId**— used to track and differentiate individual customers within the dataset.\n",
    "3.**Surname**—the surname of a customer has no impact on their decision to leave the bank.\n",
    "4.**CreditScore**—can have an effect on customer churn, since a customer with a higher credit score is less likely to leave the bank.\n",
    "5.**Geography**—a customer’s location can affect their decision to leave the bank.\n",
    "6.**Gender**—it’s interesting to explore whether gender plays a role in a customer leaving the bank.\n",
    "7.**Age**—this is certainly relevant, since older customers are less likely to leave their bank than younger ones.\n",
    "8.**Tenure**—refers to the number of years that the customer has been a client of the bank. Normally, older clients are more\n",
    "loyal and less likely to leave a bank.\n",
    "9. **Balance**—also a very good indicator of customer churn, as people with a higher balance in their accounts are less likely to leave the bank compared to those with lower balances.\n",
    "10. **NumOfProducts**—refers to the number of products that a customer has purchased through the bank.\n",
    "11. **HasCrCard**—denotes whether or not a customer has a credit card. This column is also relevant, since people with a credit card are less likely to leave the bank.\n",
    "12. **IsActiveMember**—active customers are less likely to leave the bank.\n",
    "13. **EstimatedSalary**—as with balance, people with lower salaries are more likely to leave the bank compared to those with higher salaries.\n",
    "14. **Exited**—whether or not the customer left the bank."
   ]
  },
  {
   "cell_type": "markdown",
   "id": "1c2f2f44",
   "metadata": {},
   "source": [
    "### 3. Generating Basic Information of the data."
   ]
  },
  {
   "cell_type": "code",
   "execution_count": 8,
   "id": "ab75517b",
   "metadata": {},
   "outputs": [
    {
     "name": "stdout",
     "output_type": "stream",
     "text": [
      "<class 'pandas.core.frame.DataFrame'>\n",
      "RangeIndex: 10000 entries, 0 to 9999\n",
      "Data columns (total 14 columns):\n",
      " #   Column           Non-Null Count  Dtype  \n",
      "---  ------           --------------  -----  \n",
      " 0   RowNumber        10000 non-null  int64  \n",
      " 1   CustomerId       10000 non-null  int64  \n",
      " 2   Surname          10000 non-null  object \n",
      " 3   CreditScore      10000 non-null  int64  \n",
      " 4   Geography        10000 non-null  object \n",
      " 5   Gender           10000 non-null  object \n",
      " 6   Age              10000 non-null  int64  \n",
      " 7   Tenure           10000 non-null  int64  \n",
      " 8   Balance          10000 non-null  float64\n",
      " 9   NumOfProducts    10000 non-null  int64  \n",
      " 10  HasCrCard        10000 non-null  int64  \n",
      " 11  IsActiveMember   10000 non-null  int64  \n",
      " 12  EstimatedSalary  10000 non-null  float64\n",
      " 13  Exited           10000 non-null  int64  \n",
      "dtypes: float64(2), int64(9), object(3)\n",
      "memory usage: 1.1+ MB\n"
     ]
    }
   ],
   "source": [
    "df.info()"
   ]
  },
  {
   "cell_type": "markdown",
   "id": "ca6b8dae",
   "metadata": {},
   "source": [
    " **Observation:**\n",
    " \n",
    "    1. Dataset contains 10000 rows and 14 columns.\n",
    "    2. There are 2 columns are float, 9 columns are of int and 3 columns are of object datatype."
   ]
  },
  {
   "cell_type": "markdown",
   "id": "c1eb0697",
   "metadata": {},
   "source": [
    "\n",
    "### 4. Checking for null values"
   ]
  },
  {
   "cell_type": "code",
   "execution_count": 9,
   "id": "4d010602",
   "metadata": {},
   "outputs": [
    {
     "data": {
      "text/html": [
       "<div>\n",
       "<style scoped>\n",
       "    .dataframe tbody tr th:only-of-type {\n",
       "        vertical-align: middle;\n",
       "    }\n",
       "\n",
       "    .dataframe tbody tr th {\n",
       "        vertical-align: top;\n",
       "    }\n",
       "\n",
       "    .dataframe thead th {\n",
       "        text-align: right;\n",
       "    }\n",
       "</style>\n",
       "<table border=\"1\" class=\"dataframe\">\n",
       "  <thead>\n",
       "    <tr style=\"text-align: right;\">\n",
       "      <th></th>\n",
       "      <th>Total No. of Missing Values</th>\n",
       "    </tr>\n",
       "  </thead>\n",
       "  <tbody>\n",
       "    <tr>\n",
       "      <th>RowNumber</th>\n",
       "      <td>0</td>\n",
       "    </tr>\n",
       "    <tr>\n",
       "      <th>CustomerId</th>\n",
       "      <td>0</td>\n",
       "    </tr>\n",
       "    <tr>\n",
       "      <th>Surname</th>\n",
       "      <td>0</td>\n",
       "    </tr>\n",
       "    <tr>\n",
       "      <th>CreditScore</th>\n",
       "      <td>0</td>\n",
       "    </tr>\n",
       "    <tr>\n",
       "      <th>Geography</th>\n",
       "      <td>0</td>\n",
       "    </tr>\n",
       "    <tr>\n",
       "      <th>Gender</th>\n",
       "      <td>0</td>\n",
       "    </tr>\n",
       "    <tr>\n",
       "      <th>Age</th>\n",
       "      <td>0</td>\n",
       "    </tr>\n",
       "    <tr>\n",
       "      <th>Tenure</th>\n",
       "      <td>0</td>\n",
       "    </tr>\n",
       "    <tr>\n",
       "      <th>Balance</th>\n",
       "      <td>0</td>\n",
       "    </tr>\n",
       "    <tr>\n",
       "      <th>NumOfProducts</th>\n",
       "      <td>0</td>\n",
       "    </tr>\n",
       "    <tr>\n",
       "      <th>HasCrCard</th>\n",
       "      <td>0</td>\n",
       "    </tr>\n",
       "    <tr>\n",
       "      <th>IsActiveMember</th>\n",
       "      <td>0</td>\n",
       "    </tr>\n",
       "    <tr>\n",
       "      <th>EstimatedSalary</th>\n",
       "      <td>0</td>\n",
       "    </tr>\n",
       "    <tr>\n",
       "      <th>Exited</th>\n",
       "      <td>0</td>\n",
       "    </tr>\n",
       "  </tbody>\n",
       "</table>\n",
       "</div>"
      ],
      "text/plain": [
       "                 Total No. of Missing Values\n",
       "RowNumber                                  0\n",
       "CustomerId                                 0\n",
       "Surname                                    0\n",
       "CreditScore                                0\n",
       "Geography                                  0\n",
       "Gender                                     0\n",
       "Age                                        0\n",
       "Tenure                                     0\n",
       "Balance                                    0\n",
       "NumOfProducts                              0\n",
       "HasCrCard                                  0\n",
       "IsActiveMember                             0\n",
       "EstimatedSalary                            0\n",
       "Exited                                     0"
      ]
     },
     "execution_count": 9,
     "metadata": {},
     "output_type": "execute_result"
    }
   ],
   "source": [
    "df.isnull().sum().to_frame().rename(columns={0:\"Total No. of Missing Values\"})"
   ]
  },
  {
   "cell_type": "markdown",
   "id": "c38874fd",
   "metadata": {},
   "source": [
    " **Observation:**\n",
    " \n",
    "    There are no null value present in our dataset"
   ]
  },
  {
   "cell_type": "markdown",
   "id": "dacdcb8d",
   "metadata": {},
   "source": [
    "### 5. Checking for Duplicates"
   ]
  },
  {
   "cell_type": "code",
   "execution_count": 10,
   "id": "57d34f31",
   "metadata": {},
   "outputs": [
    {
     "data": {
      "text/html": [
       "<div>\n",
       "<style scoped>\n",
       "    .dataframe tbody tr th:only-of-type {\n",
       "        vertical-align: middle;\n",
       "    }\n",
       "\n",
       "    .dataframe tbody tr th {\n",
       "        vertical-align: top;\n",
       "    }\n",
       "\n",
       "    .dataframe thead th {\n",
       "        text-align: right;\n",
       "    }\n",
       "</style>\n",
       "<table border=\"1\" class=\"dataframe\">\n",
       "  <thead>\n",
       "    <tr style=\"text-align: right;\">\n",
       "      <th></th>\n",
       "      <th>RowNumber</th>\n",
       "      <th>CustomerId</th>\n",
       "      <th>Surname</th>\n",
       "      <th>CreditScore</th>\n",
       "      <th>Geography</th>\n",
       "      <th>Gender</th>\n",
       "      <th>Age</th>\n",
       "      <th>Tenure</th>\n",
       "      <th>Balance</th>\n",
       "      <th>NumOfProducts</th>\n",
       "      <th>HasCrCard</th>\n",
       "      <th>IsActiveMember</th>\n",
       "      <th>EstimatedSalary</th>\n",
       "      <th>Exited</th>\n",
       "    </tr>\n",
       "  </thead>\n",
       "  <tbody>\n",
       "  </tbody>\n",
       "</table>\n",
       "</div>"
      ],
      "text/plain": [
       "Empty DataFrame\n",
       "Columns: [RowNumber, CustomerId, Surname, CreditScore, Geography, Gender, Age, Tenure, Balance, NumOfProducts, HasCrCard, IsActiveMember, EstimatedSalary, Exited]\n",
       "Index: []"
      ]
     },
     "execution_count": 10,
     "metadata": {},
     "output_type": "execute_result"
    }
   ],
   "source": [
    "df[df.duplicated()]"
   ]
  },
  {
   "cell_type": "markdown",
   "id": "ec5dddc0",
   "metadata": {},
   "source": [
    " **Observation:**\n",
    " \n",
    "    There is no duplicate records present in our dataset"
   ]
  },
  {
   "cell_type": "markdown",
   "id": "eb245956",
   "metadata": {},
   "source": [
    "### 6. Basic stistical  information about Numerical columns"
   ]
  },
  {
   "cell_type": "code",
   "execution_count": 11,
   "id": "720b128a",
   "metadata": {},
   "outputs": [
    {
     "data": {
      "text/html": [
       "<div>\n",
       "<style scoped>\n",
       "    .dataframe tbody tr th:only-of-type {\n",
       "        vertical-align: middle;\n",
       "    }\n",
       "\n",
       "    .dataframe tbody tr th {\n",
       "        vertical-align: top;\n",
       "    }\n",
       "\n",
       "    .dataframe thead th {\n",
       "        text-align: right;\n",
       "    }\n",
       "</style>\n",
       "<table border=\"1\" class=\"dataframe\">\n",
       "  <thead>\n",
       "    <tr style=\"text-align: right;\">\n",
       "      <th></th>\n",
       "      <th>count</th>\n",
       "      <th>mean</th>\n",
       "      <th>std</th>\n",
       "      <th>min</th>\n",
       "      <th>25%</th>\n",
       "      <th>50%</th>\n",
       "      <th>75%</th>\n",
       "      <th>max</th>\n",
       "    </tr>\n",
       "  </thead>\n",
       "  <tbody>\n",
       "    <tr>\n",
       "      <th>RowNumber</th>\n",
       "      <td>10000.0</td>\n",
       "      <td>5.000500e+03</td>\n",
       "      <td>2886.895680</td>\n",
       "      <td>1.00</td>\n",
       "      <td>2500.75</td>\n",
       "      <td>5.000500e+03</td>\n",
       "      <td>7.500250e+03</td>\n",
       "      <td>10000.00</td>\n",
       "    </tr>\n",
       "    <tr>\n",
       "      <th>CustomerId</th>\n",
       "      <td>10000.0</td>\n",
       "      <td>1.569094e+07</td>\n",
       "      <td>71936.186123</td>\n",
       "      <td>15565701.00</td>\n",
       "      <td>15628528.25</td>\n",
       "      <td>1.569074e+07</td>\n",
       "      <td>1.575323e+07</td>\n",
       "      <td>15815690.00</td>\n",
       "    </tr>\n",
       "    <tr>\n",
       "      <th>CreditScore</th>\n",
       "      <td>10000.0</td>\n",
       "      <td>6.505288e+02</td>\n",
       "      <td>96.653299</td>\n",
       "      <td>350.00</td>\n",
       "      <td>584.00</td>\n",
       "      <td>6.520000e+02</td>\n",
       "      <td>7.180000e+02</td>\n",
       "      <td>850.00</td>\n",
       "    </tr>\n",
       "    <tr>\n",
       "      <th>Age</th>\n",
       "      <td>10000.0</td>\n",
       "      <td>3.892180e+01</td>\n",
       "      <td>10.487806</td>\n",
       "      <td>18.00</td>\n",
       "      <td>32.00</td>\n",
       "      <td>3.700000e+01</td>\n",
       "      <td>4.400000e+01</td>\n",
       "      <td>92.00</td>\n",
       "    </tr>\n",
       "    <tr>\n",
       "      <th>Tenure</th>\n",
       "      <td>10000.0</td>\n",
       "      <td>5.012800e+00</td>\n",
       "      <td>2.892174</td>\n",
       "      <td>0.00</td>\n",
       "      <td>3.00</td>\n",
       "      <td>5.000000e+00</td>\n",
       "      <td>7.000000e+00</td>\n",
       "      <td>10.00</td>\n",
       "    </tr>\n",
       "    <tr>\n",
       "      <th>Balance</th>\n",
       "      <td>10000.0</td>\n",
       "      <td>7.648589e+04</td>\n",
       "      <td>62397.405202</td>\n",
       "      <td>0.00</td>\n",
       "      <td>0.00</td>\n",
       "      <td>9.719854e+04</td>\n",
       "      <td>1.276442e+05</td>\n",
       "      <td>250898.09</td>\n",
       "    </tr>\n",
       "    <tr>\n",
       "      <th>NumOfProducts</th>\n",
       "      <td>10000.0</td>\n",
       "      <td>1.530200e+00</td>\n",
       "      <td>0.581654</td>\n",
       "      <td>1.00</td>\n",
       "      <td>1.00</td>\n",
       "      <td>1.000000e+00</td>\n",
       "      <td>2.000000e+00</td>\n",
       "      <td>4.00</td>\n",
       "    </tr>\n",
       "    <tr>\n",
       "      <th>HasCrCard</th>\n",
       "      <td>10000.0</td>\n",
       "      <td>7.055000e-01</td>\n",
       "      <td>0.455840</td>\n",
       "      <td>0.00</td>\n",
       "      <td>0.00</td>\n",
       "      <td>1.000000e+00</td>\n",
       "      <td>1.000000e+00</td>\n",
       "      <td>1.00</td>\n",
       "    </tr>\n",
       "    <tr>\n",
       "      <th>IsActiveMember</th>\n",
       "      <td>10000.0</td>\n",
       "      <td>5.151000e-01</td>\n",
       "      <td>0.499797</td>\n",
       "      <td>0.00</td>\n",
       "      <td>0.00</td>\n",
       "      <td>1.000000e+00</td>\n",
       "      <td>1.000000e+00</td>\n",
       "      <td>1.00</td>\n",
       "    </tr>\n",
       "    <tr>\n",
       "      <th>EstimatedSalary</th>\n",
       "      <td>10000.0</td>\n",
       "      <td>1.000902e+05</td>\n",
       "      <td>57510.492818</td>\n",
       "      <td>11.58</td>\n",
       "      <td>51002.11</td>\n",
       "      <td>1.001939e+05</td>\n",
       "      <td>1.493882e+05</td>\n",
       "      <td>199992.48</td>\n",
       "    </tr>\n",
       "    <tr>\n",
       "      <th>Exited</th>\n",
       "      <td>10000.0</td>\n",
       "      <td>2.037000e-01</td>\n",
       "      <td>0.402769</td>\n",
       "      <td>0.00</td>\n",
       "      <td>0.00</td>\n",
       "      <td>0.000000e+00</td>\n",
       "      <td>0.000000e+00</td>\n",
       "      <td>1.00</td>\n",
       "    </tr>\n",
       "  </tbody>\n",
       "</table>\n",
       "</div>"
      ],
      "text/plain": [
       "                   count          mean           std          min  \\\n",
       "RowNumber        10000.0  5.000500e+03   2886.895680         1.00   \n",
       "CustomerId       10000.0  1.569094e+07  71936.186123  15565701.00   \n",
       "CreditScore      10000.0  6.505288e+02     96.653299       350.00   \n",
       "Age              10000.0  3.892180e+01     10.487806        18.00   \n",
       "Tenure           10000.0  5.012800e+00      2.892174         0.00   \n",
       "Balance          10000.0  7.648589e+04  62397.405202         0.00   \n",
       "NumOfProducts    10000.0  1.530200e+00      0.581654         1.00   \n",
       "HasCrCard        10000.0  7.055000e-01      0.455840         0.00   \n",
       "IsActiveMember   10000.0  5.151000e-01      0.499797         0.00   \n",
       "EstimatedSalary  10000.0  1.000902e+05  57510.492818        11.58   \n",
       "Exited           10000.0  2.037000e-01      0.402769         0.00   \n",
       "\n",
       "                         25%           50%           75%          max  \n",
       "RowNumber            2500.75  5.000500e+03  7.500250e+03     10000.00  \n",
       "CustomerId       15628528.25  1.569074e+07  1.575323e+07  15815690.00  \n",
       "CreditScore           584.00  6.520000e+02  7.180000e+02       850.00  \n",
       "Age                    32.00  3.700000e+01  4.400000e+01        92.00  \n",
       "Tenure                  3.00  5.000000e+00  7.000000e+00        10.00  \n",
       "Balance                 0.00  9.719854e+04  1.276442e+05    250898.09  \n",
       "NumOfProducts           1.00  1.000000e+00  2.000000e+00         4.00  \n",
       "HasCrCard               0.00  1.000000e+00  1.000000e+00         1.00  \n",
       "IsActiveMember          0.00  1.000000e+00  1.000000e+00         1.00  \n",
       "EstimatedSalary     51002.11  1.001939e+05  1.493882e+05    199992.48  \n",
       "Exited                  0.00  0.000000e+00  0.000000e+00         1.00  "
      ]
     },
     "execution_count": 11,
     "metadata": {},
     "output_type": "execute_result"
    }
   ],
   "source": [
    "df.describe().T"
   ]
  },
  {
   "cell_type": "markdown",
   "id": "a2973745",
   "metadata": {},
   "source": [
    "\n",
    "### 7. Basic stistical information about categorical Columns"
   ]
  },
  {
   "cell_type": "code",
   "execution_count": 12,
   "id": "603ad58b",
   "metadata": {
    "scrolled": true
   },
   "outputs": [
    {
     "data": {
      "text/html": [
       "<div>\n",
       "<style scoped>\n",
       "    .dataframe tbody tr th:only-of-type {\n",
       "        vertical-align: middle;\n",
       "    }\n",
       "\n",
       "    .dataframe tbody tr th {\n",
       "        vertical-align: top;\n",
       "    }\n",
       "\n",
       "    .dataframe thead th {\n",
       "        text-align: right;\n",
       "    }\n",
       "</style>\n",
       "<table border=\"1\" class=\"dataframe\">\n",
       "  <thead>\n",
       "    <tr style=\"text-align: right;\">\n",
       "      <th></th>\n",
       "      <th>Surname</th>\n",
       "      <th>Geography</th>\n",
       "      <th>Gender</th>\n",
       "    </tr>\n",
       "  </thead>\n",
       "  <tbody>\n",
       "    <tr>\n",
       "      <th>count</th>\n",
       "      <td>10000</td>\n",
       "      <td>10000</td>\n",
       "      <td>10000</td>\n",
       "    </tr>\n",
       "    <tr>\n",
       "      <th>unique</th>\n",
       "      <td>2932</td>\n",
       "      <td>3</td>\n",
       "      <td>2</td>\n",
       "    </tr>\n",
       "    <tr>\n",
       "      <th>top</th>\n",
       "      <td>Smith</td>\n",
       "      <td>France</td>\n",
       "      <td>Male</td>\n",
       "    </tr>\n",
       "    <tr>\n",
       "      <th>freq</th>\n",
       "      <td>32</td>\n",
       "      <td>5014</td>\n",
       "      <td>5457</td>\n",
       "    </tr>\n",
       "  </tbody>\n",
       "</table>\n",
       "</div>"
      ],
      "text/plain": [
       "       Surname Geography Gender\n",
       "count    10000     10000  10000\n",
       "unique    2932         3      2\n",
       "top      Smith    France   Male\n",
       "freq        32      5014   5457"
      ]
     },
     "execution_count": 12,
     "metadata": {},
     "output_type": "execute_result"
    }
   ],
   "source": [
    "df.describe(include=\"object\")"
   ]
  },
  {
   "cell_type": "markdown",
   "id": "8f62c0e4",
   "metadata": {},
   "source": [
    "### 8. Printing Unique values:"
   ]
  },
  {
   "cell_type": "code",
   "execution_count": 13,
   "id": "a1a9df7c",
   "metadata": {},
   "outputs": [
    {
     "name": "stdout",
     "output_type": "stream",
     "text": [
      "******************** RowNumber ********************\n",
      "[    1     2     3 ...  9998  9999 10000]\n",
      "******************** CustomerId ********************\n",
      "[15634602 15647311 15619304 ... 15584532 15682355 15628319]\n",
      "******************** Surname ********************\n",
      "['Hargrave' 'Hill' 'Onio' ... 'Kashiwagi' 'Aldridge' 'Burbidge']\n",
      "******************** CreditScore ********************\n",
      "[619 608 502 699 850 645 822 376 501 684 528 497 476 549 635 616 653 587\n",
      " 726 732 636 510 669 846 577 756 571 574 411 591 533 553 520 722 475 490\n",
      " 804 582 472 465 556 834 660 776 829 637 550 698 585 788 655 601 656 725\n",
      " 511 614 742 687 555 603 751 581 735 661 675 738 813 657 604 519 664 678\n",
      " 757 416 665 777 543 506 493 652 750 729 646 647 808 524 769 730 515 773\n",
      " 814 710 413 623 670 622 785 605 479 685 538 562 721 628 668 828 674 625\n",
      " 432 770 758 795 686 789 589 461 584 579 663 682 793 691 485 650 754 535\n",
      " 716 539 706 586 631 717 800 683 704 615 667 484 480 578 512 606 597 778\n",
      " 514 525 715 580 807 521 759 516 711 618 643 671 689 620 676 572 695 592\n",
      " 567 694 547 594 673 610 767 763 712 703 662 659 523 772 545 634 739 771\n",
      " 681 544 696 766 727 693 557 531 498 651 791 733 811 707 714 782 775 799\n",
      " 602 744 588 747 583 627 731 629 438 642 806 474 559 429 680 749 734 644\n",
      " 626 649 805 718 840 630 654 762 568 613 522 737 648 443 640 540 460 593\n",
      " 801 611 802 745 483 690 492 709 705 560 752 701 537 487 596 702 486 724\n",
      " 548 464 790 534 748 494 590 468 509 818 816 536 753 774 621 569 658 798\n",
      " 641 542 692 639 765 570 638 599 632 779 527 564 833 504 842 508 417 598\n",
      " 741 607 761 848 546 439 755 760 526 713 700 666 566 495 688 612 477 427\n",
      " 839 819 720 459 503 624 529 563 482 796 445 746 786 554 672 787 499 844\n",
      " 450 815 838 803 736 633 600 679 517 792 743 488 421 841 708 507 505 456\n",
      " 435 561 518 565 728 784 552 609 764 697 723 551 444 719 496 541 830 812\n",
      " 677 420 595 617 809 500 826 434 513 478 797 363 399 463 780 452 575 837\n",
      " 794 824 428 823 781 849 489 431 457 768 831 359 820 573 576 558 817 449\n",
      " 440 415 821 530 350 446 425 740 481 783 358 845 451 458 469 423 404 836\n",
      " 473 835 466 491 351 827 843 365 532 414 453 471 401 810 832 470 447 422\n",
      " 825 430 436 426 408 847 418 437 410 454 407 455 462 386 405 383 395 467\n",
      " 433 442 424 448 441 367 412 382 373 419]\n",
      "******************** Geography ********************\n",
      "['France' 'Spain' 'Germany']\n",
      "******************** Gender ********************\n",
      "['Female' 'Male']\n",
      "******************** Age ********************\n",
      "[42 41 39 43 44 50 29 27 31 24 34 25 35 45 58 32 38 46 36 33 40 51 61 49\n",
      " 37 19 66 56 26 21 55 75 22 30 28 65 48 52 57 73 47 54 72 20 67 79 62 53\n",
      " 80 59 68 23 60 70 63 64 18 82 69 74 71 76 77 88 85 84 78 81 92 83]\n",
      "******************** Tenure ********************\n",
      "[ 2  1  8  7  4  6  3 10  5  9  0]\n",
      "******************** Balance ********************\n",
      "[     0.    83807.86 159660.8  ...  57369.61  75075.31 130142.79]\n",
      "******************** NumOfProducts ********************\n",
      "[1 3 2 4]\n",
      "******************** HasCrCard ********************\n",
      "[1 0]\n",
      "******************** IsActiveMember ********************\n",
      "[1 0]\n",
      "******************** EstimatedSalary ********************\n",
      "[101348.88 112542.58 113931.57 ...  42085.58  92888.52  38190.78]\n",
      "******************** Exited ********************\n",
      "[1 0]\n"
     ]
    }
   ],
   "source": [
    "for i in df.columns:\n",
    "    print(\"*\"*20 , i, \"*\"*20)\n",
    "    print(df[i].unique())"
   ]
  },
  {
   "cell_type": "markdown",
   "id": "05db982f",
   "metadata": {},
   "source": [
    "# DATA CLEANING"
   ]
  },
  {
   "cell_type": "markdown",
   "id": "05a366bc",
   "metadata": {},
   "source": [
    "### 1. Dropping Insignificant Columns"
   ]
  },
  {
   "cell_type": "code",
   "execution_count": 14,
   "id": "31c33bc9",
   "metadata": {},
   "outputs": [],
   "source": [
    "df.drop([\"RowNumber\", \"CustomerId\", \"Surname\"], axis= 1, inplace = True)"
   ]
  },
  {
   "cell_type": "markdown",
   "id": "a882cf1e",
   "metadata": {},
   "source": [
    "**RowNumber and CustomerID** contains unique value for each customer and doesn't seems relevent for predicting outcome.\n",
    "\n",
    "And also **Surname** column doesnot contribute anything for predicting outcome."
   ]
  },
  {
   "cell_type": "markdown",
   "id": "2a4b0cbf",
   "metadata": {},
   "source": [
    "### 2. Renaming Target column"
   ]
  },
  {
   "cell_type": "code",
   "execution_count": 15,
   "id": "508ff98c",
   "metadata": {},
   "outputs": [],
   "source": [
    "df.rename(columns= {\"Exited\": \"Churned\"}, inplace = True)"
   ]
  },
  {
   "cell_type": "code",
   "execution_count": 16,
   "id": "a546f667",
   "metadata": {
    "scrolled": true
   },
   "outputs": [
    {
     "data": {
      "text/html": [
       "<div>\n",
       "<style scoped>\n",
       "    .dataframe tbody tr th:only-of-type {\n",
       "        vertical-align: middle;\n",
       "    }\n",
       "\n",
       "    .dataframe tbody tr th {\n",
       "        vertical-align: top;\n",
       "    }\n",
       "\n",
       "    .dataframe thead th {\n",
       "        text-align: right;\n",
       "    }\n",
       "</style>\n",
       "<table border=\"1\" class=\"dataframe\">\n",
       "  <thead>\n",
       "    <tr style=\"text-align: right;\">\n",
       "      <th></th>\n",
       "      <th>CreditScore</th>\n",
       "      <th>Geography</th>\n",
       "      <th>Gender</th>\n",
       "      <th>Age</th>\n",
       "      <th>Tenure</th>\n",
       "      <th>Balance</th>\n",
       "      <th>NumOfProducts</th>\n",
       "      <th>HasCrCard</th>\n",
       "      <th>IsActiveMember</th>\n",
       "      <th>EstimatedSalary</th>\n",
       "      <th>Churned</th>\n",
       "    </tr>\n",
       "  </thead>\n",
       "  <tbody>\n",
       "    <tr>\n",
       "      <th>0</th>\n",
       "      <td>619</td>\n",
       "      <td>France</td>\n",
       "      <td>Female</td>\n",
       "      <td>42</td>\n",
       "      <td>2</td>\n",
       "      <td>0.00</td>\n",
       "      <td>1</td>\n",
       "      <td>1</td>\n",
       "      <td>1</td>\n",
       "      <td>101348.88</td>\n",
       "      <td>1</td>\n",
       "    </tr>\n",
       "    <tr>\n",
       "      <th>1</th>\n",
       "      <td>608</td>\n",
       "      <td>Spain</td>\n",
       "      <td>Female</td>\n",
       "      <td>41</td>\n",
       "      <td>1</td>\n",
       "      <td>83807.86</td>\n",
       "      <td>1</td>\n",
       "      <td>0</td>\n",
       "      <td>1</td>\n",
       "      <td>112542.58</td>\n",
       "      <td>0</td>\n",
       "    </tr>\n",
       "    <tr>\n",
       "      <th>2</th>\n",
       "      <td>502</td>\n",
       "      <td>France</td>\n",
       "      <td>Female</td>\n",
       "      <td>42</td>\n",
       "      <td>8</td>\n",
       "      <td>159660.80</td>\n",
       "      <td>3</td>\n",
       "      <td>1</td>\n",
       "      <td>0</td>\n",
       "      <td>113931.57</td>\n",
       "      <td>1</td>\n",
       "    </tr>\n",
       "    <tr>\n",
       "      <th>3</th>\n",
       "      <td>699</td>\n",
       "      <td>France</td>\n",
       "      <td>Female</td>\n",
       "      <td>39</td>\n",
       "      <td>1</td>\n",
       "      <td>0.00</td>\n",
       "      <td>2</td>\n",
       "      <td>0</td>\n",
       "      <td>0</td>\n",
       "      <td>93826.63</td>\n",
       "      <td>0</td>\n",
       "    </tr>\n",
       "    <tr>\n",
       "      <th>4</th>\n",
       "      <td>850</td>\n",
       "      <td>Spain</td>\n",
       "      <td>Female</td>\n",
       "      <td>43</td>\n",
       "      <td>2</td>\n",
       "      <td>125510.82</td>\n",
       "      <td>1</td>\n",
       "      <td>1</td>\n",
       "      <td>1</td>\n",
       "      <td>79084.10</td>\n",
       "      <td>0</td>\n",
       "    </tr>\n",
       "  </tbody>\n",
       "</table>\n",
       "</div>"
      ],
      "text/plain": [
       "   CreditScore Geography  Gender  Age  Tenure    Balance  NumOfProducts  \\\n",
       "0          619    France  Female   42       2       0.00              1   \n",
       "1          608     Spain  Female   41       1   83807.86              1   \n",
       "2          502    France  Female   42       8  159660.80              3   \n",
       "3          699    France  Female   39       1       0.00              2   \n",
       "4          850     Spain  Female   43       2  125510.82              1   \n",
       "\n",
       "   HasCrCard  IsActiveMember  EstimatedSalary  Churned  \n",
       "0          1               1        101348.88        1  \n",
       "1          0               1        112542.58        0  \n",
       "2          1               0        113931.57        1  \n",
       "3          0               0         93826.63        0  \n",
       "4          1               1         79084.10        0  "
      ]
     },
     "execution_count": 16,
     "metadata": {},
     "output_type": "execute_result"
    }
   ],
   "source": [
    "df.head()"
   ]
  },
  {
   "cell_type": "markdown",
   "id": "2bf7194e",
   "metadata": {},
   "source": [
    "### 3. Creating new Creditscore range column , Age range  and income level column"
   ]
  },
  {
   "cell_type": "code",
   "execution_count": 17,
   "id": "57ab9d05",
   "metadata": {},
   "outputs": [],
   "source": [
    "def cs_range(x):\n",
    "    if x <300:\n",
    "         return \"No Score\"\n",
    "    elif x >= 300 and x < 551:\n",
    "        return \"Very Low\"\n",
    "    elif x >= 551 and x <621:\n",
    "        return \"Low\"\n",
    "    elif  x >= 621 and x <701:\n",
    "        return \"Fair\"\n",
    "    elif  x >= 701 and x <750:\n",
    "        return \"Good\"\n",
    "    else:\n",
    "        return \"Excellent\""
   ]
  },
  {
   "cell_type": "code",
   "execution_count": 18,
   "id": "1fbc84ab",
   "metadata": {},
   "outputs": [],
   "source": [
    "df[\"Creditscore_range\"]= df[\"CreditScore\"].apply(cs_range)"
   ]
  },
  {
   "cell_type": "code",
   "execution_count": 19,
   "id": "9716f95e",
   "metadata": {},
   "outputs": [],
   "source": [
    "Age_ranges = [0, 20, 40, 60, 80, 100]\n",
    "Age_labels = [\"<20\", '20-39', '40-59', '60-79', \"80+\"]\n",
    "df['Age_Range'] = pd.cut(df['Age'], bins=Age_ranges, labels=Age_labels)"
   ]
  },
  {
   "cell_type": "code",
   "execution_count": 20,
   "id": "a9ee6c52",
   "metadata": {},
   "outputs": [],
   "source": [
    "salary_ranges = [0, 50000, 100000, 150000, 200000]\n",
    "salary_labels = [\"Low\", 'Medium', 'High', 'Very High']\n",
    "df['salary_Range'] = pd.cut(df['EstimatedSalary'], bins=salary_ranges, labels=salary_labels)"
   ]
  },
  {
   "cell_type": "code",
   "execution_count": 21,
   "id": "5e69e704",
   "metadata": {},
   "outputs": [
    {
     "data": {
      "text/html": [
       "<div>\n",
       "<style scoped>\n",
       "    .dataframe tbody tr th:only-of-type {\n",
       "        vertical-align: middle;\n",
       "    }\n",
       "\n",
       "    .dataframe tbody tr th {\n",
       "        vertical-align: top;\n",
       "    }\n",
       "\n",
       "    .dataframe thead th {\n",
       "        text-align: right;\n",
       "    }\n",
       "</style>\n",
       "<table border=\"1\" class=\"dataframe\">\n",
       "  <thead>\n",
       "    <tr style=\"text-align: right;\">\n",
       "      <th></th>\n",
       "      <th>CreditScore</th>\n",
       "      <th>Geography</th>\n",
       "      <th>Gender</th>\n",
       "      <th>Age</th>\n",
       "      <th>Tenure</th>\n",
       "      <th>Balance</th>\n",
       "      <th>NumOfProducts</th>\n",
       "      <th>HasCrCard</th>\n",
       "      <th>IsActiveMember</th>\n",
       "      <th>EstimatedSalary</th>\n",
       "      <th>Churned</th>\n",
       "      <th>Creditscore_range</th>\n",
       "      <th>Age_Range</th>\n",
       "      <th>salary_Range</th>\n",
       "    </tr>\n",
       "  </thead>\n",
       "  <tbody>\n",
       "    <tr>\n",
       "      <th>0</th>\n",
       "      <td>619</td>\n",
       "      <td>France</td>\n",
       "      <td>Female</td>\n",
       "      <td>42</td>\n",
       "      <td>2</td>\n",
       "      <td>0.00</td>\n",
       "      <td>1</td>\n",
       "      <td>1</td>\n",
       "      <td>1</td>\n",
       "      <td>101348.88</td>\n",
       "      <td>1</td>\n",
       "      <td>Low</td>\n",
       "      <td>40-59</td>\n",
       "      <td>High</td>\n",
       "    </tr>\n",
       "    <tr>\n",
       "      <th>1</th>\n",
       "      <td>608</td>\n",
       "      <td>Spain</td>\n",
       "      <td>Female</td>\n",
       "      <td>41</td>\n",
       "      <td>1</td>\n",
       "      <td>83807.86</td>\n",
       "      <td>1</td>\n",
       "      <td>0</td>\n",
       "      <td>1</td>\n",
       "      <td>112542.58</td>\n",
       "      <td>0</td>\n",
       "      <td>Low</td>\n",
       "      <td>40-59</td>\n",
       "      <td>High</td>\n",
       "    </tr>\n",
       "    <tr>\n",
       "      <th>2</th>\n",
       "      <td>502</td>\n",
       "      <td>France</td>\n",
       "      <td>Female</td>\n",
       "      <td>42</td>\n",
       "      <td>8</td>\n",
       "      <td>159660.80</td>\n",
       "      <td>3</td>\n",
       "      <td>1</td>\n",
       "      <td>0</td>\n",
       "      <td>113931.57</td>\n",
       "      <td>1</td>\n",
       "      <td>Very Low</td>\n",
       "      <td>40-59</td>\n",
       "      <td>High</td>\n",
       "    </tr>\n",
       "    <tr>\n",
       "      <th>3</th>\n",
       "      <td>699</td>\n",
       "      <td>France</td>\n",
       "      <td>Female</td>\n",
       "      <td>39</td>\n",
       "      <td>1</td>\n",
       "      <td>0.00</td>\n",
       "      <td>2</td>\n",
       "      <td>0</td>\n",
       "      <td>0</td>\n",
       "      <td>93826.63</td>\n",
       "      <td>0</td>\n",
       "      <td>Fair</td>\n",
       "      <td>20-39</td>\n",
       "      <td>Medium</td>\n",
       "    </tr>\n",
       "    <tr>\n",
       "      <th>4</th>\n",
       "      <td>850</td>\n",
       "      <td>Spain</td>\n",
       "      <td>Female</td>\n",
       "      <td>43</td>\n",
       "      <td>2</td>\n",
       "      <td>125510.82</td>\n",
       "      <td>1</td>\n",
       "      <td>1</td>\n",
       "      <td>1</td>\n",
       "      <td>79084.10</td>\n",
       "      <td>0</td>\n",
       "      <td>Excellent</td>\n",
       "      <td>40-59</td>\n",
       "      <td>Medium</td>\n",
       "    </tr>\n",
       "  </tbody>\n",
       "</table>\n",
       "</div>"
      ],
      "text/plain": [
       "   CreditScore Geography  Gender  Age  Tenure    Balance  NumOfProducts  \\\n",
       "0          619    France  Female   42       2       0.00              1   \n",
       "1          608     Spain  Female   41       1   83807.86              1   \n",
       "2          502    France  Female   42       8  159660.80              3   \n",
       "3          699    France  Female   39       1       0.00              2   \n",
       "4          850     Spain  Female   43       2  125510.82              1   \n",
       "\n",
       "   HasCrCard  IsActiveMember  EstimatedSalary  Churned Creditscore_range  \\\n",
       "0          1               1        101348.88        1               Low   \n",
       "1          0               1        112542.58        0               Low   \n",
       "2          1               0        113931.57        1          Very Low   \n",
       "3          0               0         93826.63        0              Fair   \n",
       "4          1               1         79084.10        0         Excellent   \n",
       "\n",
       "  Age_Range salary_Range  \n",
       "0     40-59         High  \n",
       "1     40-59         High  \n",
       "2     40-59         High  \n",
       "3     20-39       Medium  \n",
       "4     40-59       Medium  "
      ]
     },
     "execution_count": 21,
     "metadata": {},
     "output_type": "execute_result"
    }
   ],
   "source": [
    "df.head()"
   ]
  },
  {
   "cell_type": "markdown",
   "id": "b483b22d",
   "metadata": {},
   "source": [
    "# EXPLORATORY DATA ANALYSIS"
   ]
  },
  {
   "cell_type": "markdown",
   "id": "3b46d8e6",
   "metadata": {},
   "source": [
    "### 1. What is the distribution of customers who have exited versus those who haven't?"
   ]
  },
  {
   "cell_type": "code",
   "execution_count": 22,
   "id": "d66f833a",
   "metadata": {},
   "outputs": [
    {
     "data": {
      "image/png": "[encoded data removed]",
      "text/plain": [
       "<Figure size 1080x360 with 2 Axes>"
      ]
     },
     "metadata": {
      "needs_background": "light"
     },
     "output_type": "display_data"
    }
   ],
   "source": [
    "\n",
    "plt.figure(figsize= (15,5))\n",
    "\n",
    "plt.subplot(1,2, 1)\n",
    "sns.countplot(df[\"Churned\"])\n",
    "\n",
    "plt.title(\"Customer Churned Distribution\",\n",
    "          fontsize=15,\n",
    "          color=\"Black\", fontweight=\"bold\", loc= \"center\",\n",
    "     pad=\"20\")\n",
    "\n",
    "plt.subplot(1,2, 2)\n",
    "\n",
    "plt.pie(df['Churned'].value_counts().values,labels=[\"No\", \"Yes\"], autopct= \"%.2f%%\", explode=[0,0.1])\n",
    "\n",
    "plt.title(\"Customer Churned Distribution\",\n",
    "          fontsize=15,\n",
    "          color=\"Black\", fontweight=\"bold\", loc= \"center\",\n",
    "          pad=\"20\")\n",
    "plt.show()"
   ]
  },
  {
   "cell_type": "markdown",
   "id": "25c6960c",
   "metadata": {},
   "source": [
    "### **Observation:**\n",
    "\n",
    "        1.There are very few number of customer how had discountinued the bank as compared to how stayed.\n",
    "        2. By analyzing above chart, we can say that there is huge imbalance in Target column. so we need to balance them \n",
    "        otherwise it can affect our model performance."
   ]
  },
  {
   "cell_type": "markdown",
   "id": "95e38806",
   "metadata": {},
   "source": [
    "### 2. What is the distribution of customers across different geographies?"
   ]
  },
  {
   "cell_type": "code",
   "execution_count": 23,
   "id": "700baa1b",
   "metadata": {},
   "outputs": [],
   "source": [
    "def countplot(column):\n",
    "    plt.figure(figsize= (15,5))\n",
    "\n",
    "    sns.countplot(df[column], hue= df[\"Churned\"], palette=\"Set2\")\n",
    "\n",
    "    plt.title(f\"Customer Churned by {column}\",\n",
    "              fontsize=15,\n",
    "              color=\"Black\", fontweight=\"bold\", loc= \"center\",\n",
    "         pad=\"20\")\n",
    "\n",
    "\n",
    "    plt.show()"
   ]
  },
  {
   "cell_type": "code",
   "execution_count": 24,
   "id": "4b577d36",
   "metadata": {},
   "outputs": [],
   "source": [
    "churned= df.groupby(\"Geography\")[\"Churned\"].count().to_frame().rename(columns= {\"Churned\": \"Total Customers\"})"
   ]
  },
  {
   "cell_type": "code",
   "execution_count": 25,
   "id": "d2da0085",
   "metadata": {},
   "outputs": [],
   "source": [
    "churned[\"Stay\"]= df[df[\"Churned\"]==0].groupby(\"Geography\")[\"Churned\"].count()\n",
    "churned[\"Churned\"]= df[df[\"Churned\"]==1].groupby(\"Geography\")[\"Churned\"].count()\n",
    "churned[\"Churned rate\"]= churned[\"Churned\"]/10000* 100\n"
   ]
  },
  {
   "cell_type": "code",
   "execution_count": 26,
   "id": "909b2732",
   "metadata": {},
   "outputs": [
    {
     "data": {
      "text/html": [
       "<div>\n",
       "<style scoped>\n",
       "    .dataframe tbody tr th:only-of-type {\n",
       "        vertical-align: middle;\n",
       "    }\n",
       "\n",
       "    .dataframe tbody tr th {\n",
       "        vertical-align: top;\n",
       "    }\n",
       "\n",
       "    .dataframe thead th {\n",
       "        text-align: right;\n",
       "    }\n",
       "</style>\n",
       "<table border=\"1\" class=\"dataframe\">\n",
       "  <thead>\n",
       "    <tr style=\"text-align: right;\">\n",
       "      <th></th>\n",
       "      <th>Total Customers</th>\n",
       "      <th>Stay</th>\n",
       "      <th>Churned</th>\n",
       "      <th>Churned rate</th>\n",
       "    </tr>\n",
       "    <tr>\n",
       "      <th>Geography</th>\n",
       "      <th></th>\n",
       "      <th></th>\n",
       "      <th></th>\n",
       "      <th></th>\n",
       "    </tr>\n",
       "  </thead>\n",
       "  <tbody>\n",
       "    <tr>\n",
       "      <th>France</th>\n",
       "      <td>5014</td>\n",
       "      <td>4204</td>\n",
       "      <td>810</td>\n",
       "      <td>8.10</td>\n",
       "    </tr>\n",
       "    <tr>\n",
       "      <th>Germany</th>\n",
       "      <td>2509</td>\n",
       "      <td>1695</td>\n",
       "      <td>814</td>\n",
       "      <td>8.14</td>\n",
       "    </tr>\n",
       "    <tr>\n",
       "      <th>Spain</th>\n",
       "      <td>2477</td>\n",
       "      <td>2064</td>\n",
       "      <td>413</td>\n",
       "      <td>4.13</td>\n",
       "    </tr>\n",
       "  </tbody>\n",
       "</table>\n",
       "</div>"
      ],
      "text/plain": [
       "           Total Customers  Stay  Churned  Churned rate\n",
       "Geography                                              \n",
       "France                5014  4204      810          8.10\n",
       "Germany               2509  1695      814          8.14\n",
       "Spain                 2477  2064      413          4.13"
      ]
     },
     "execution_count": 26,
     "metadata": {},
     "output_type": "execute_result"
    }
   ],
   "source": [
    "churned"
   ]
  },
  {
   "cell_type": "code",
   "execution_count": 27,
   "id": "662122dd",
   "metadata": {},
   "outputs": [
    {
     "data": {
      "image/png": "[encoded data removed]",
      "text/plain": [
       "<Figure size 1080x360 with 1 Axes>"
      ]
     },
     "metadata": {
      "needs_background": "light"
     },
     "output_type": "display_data"
    }
   ],
   "source": [
    "countplot(\"Geography\")"
   ]
  },
  {
   "cell_type": "markdown",
   "id": "f953dd78",
   "metadata": {},
   "source": [
    "**Observation:**\n",
    "\n",
    "        1.By Analyzing chart, we can say that out of total number of customers(10,000) half of the customers are from \n",
    "        France (5014) and followed by Spain(2509) and Germany(2477).\n",
    "       \n",
    "        \n",
    "        2. Spain(2509) and Germany(2477) has almost equal number of customer but churned rate of Germany(8.14) is double as compared to spain(4.13)\n",
    "        \n",
    "        3. Churn rate is same in case of France(8.10) and Germany(8.14). But there is huge difference between total customers of france and germany. So we can say that germany has high churned rate.\n",
    "        \n",
    "       \n",
    "        "
   ]
  },
  {
   "cell_type": "markdown",
   "id": "437d2061",
   "metadata": {},
   "source": [
    "### 3. Is there a significant difference in churn rates between male and female customers?"
   ]
  },
  {
   "cell_type": "code",
   "execution_count": 28,
   "id": "1467d1e7",
   "metadata": {},
   "outputs": [
    {
     "data": {
      "text/html": [
       "<div>\n",
       "<style scoped>\n",
       "    .dataframe tbody tr th:only-of-type {\n",
       "        vertical-align: middle;\n",
       "    }\n",
       "\n",
       "    .dataframe tbody tr th {\n",
       "        vertical-align: top;\n",
       "    }\n",
       "\n",
       "    .dataframe thead th {\n",
       "        text-align: right;\n",
       "    }\n",
       "</style>\n",
       "<table border=\"1\" class=\"dataframe\">\n",
       "  <thead>\n",
       "    <tr style=\"text-align: right;\">\n",
       "      <th></th>\n",
       "      <th>Total Customers</th>\n",
       "      <th>Stay</th>\n",
       "      <th>Churned</th>\n",
       "      <th>Churned rate</th>\n",
       "    </tr>\n",
       "    <tr>\n",
       "      <th>Gender</th>\n",
       "      <th></th>\n",
       "      <th></th>\n",
       "      <th></th>\n",
       "      <th></th>\n",
       "    </tr>\n",
       "  </thead>\n",
       "  <tbody>\n",
       "    <tr>\n",
       "      <th>Female</th>\n",
       "      <td>4543</td>\n",
       "      <td>3404</td>\n",
       "      <td>1139</td>\n",
       "      <td>11.39</td>\n",
       "    </tr>\n",
       "    <tr>\n",
       "      <th>Male</th>\n",
       "      <td>5457</td>\n",
       "      <td>4559</td>\n",
       "      <td>898</td>\n",
       "      <td>8.98</td>\n",
       "    </tr>\n",
       "  </tbody>\n",
       "</table>\n",
       "</div>"
      ],
      "text/plain": [
       "        Total Customers  Stay  Churned  Churned rate\n",
       "Gender                                              \n",
       "Female             4543  3404     1139         11.39\n",
       "Male               5457  4559      898          8.98"
      ]
     },
     "execution_count": 28,
     "metadata": {},
     "output_type": "execute_result"
    }
   ],
   "source": [
    "churned= df.groupby(\"Gender\")[\"Churned\"].count().to_frame().rename(columns= {\"Churned\": \"Total Customers\"})\n",
    "churned[\"Stay\"]= df[df[\"Churned\"]==0].groupby(\"Gender\")[\"Churned\"].count()\n",
    "churned[\"Churned\"]= df[df[\"Churned\"]==1].groupby(\"Gender\")[\"Churned\"].count()\n",
    "churned[\"Churned rate\"]= churned[\"Churned\"]/10000* 100\n",
    "churned"
   ]
  },
  {
   "cell_type": "code",
   "execution_count": 29,
   "id": "b61efd09",
   "metadata": {
    "scrolled": true
   },
   "outputs": [
    {
     "data": {
      "image/png": "[encoded data removed]",
      "text/plain": [
       "<Figure size 1080x360 with 1 Axes>"
      ]
     },
     "metadata": {
      "needs_background": "light"
     },
     "output_type": "display_data"
    }
   ],
   "source": [
    "countplot(\"Gender\")"
   ]
  },
  {
   "cell_type": "markdown",
   "id": "e4259a1a",
   "metadata": {},
   "source": [
    "### Observation:\n",
    "    1. There are almost equal number of male and female customers which is 5457 and 4543 respectively.\n",
    "    2. Churned rate is high among the female customers as campared to male.Which means female customers\n",
    "    are more deactivating their banking facilities compared to male customers."
   ]
  },
  {
   "cell_type": "markdown",
   "id": "d610a4db",
   "metadata": {},
   "source": [
    "## 4. Is there a relationship between churn and having a credit card (HasCrCard)?"
   ]
  },
  {
   "cell_type": "code",
   "execution_count": 30,
   "id": "5e21930d",
   "metadata": {},
   "outputs": [
    {
     "data": {
      "text/html": [
       "<div>\n",
       "<style scoped>\n",
       "    .dataframe tbody tr th:only-of-type {\n",
       "        vertical-align: middle;\n",
       "    }\n",
       "\n",
       "    .dataframe tbody tr th {\n",
       "        vertical-align: top;\n",
       "    }\n",
       "\n",
       "    .dataframe thead th {\n",
       "        text-align: right;\n",
       "    }\n",
       "</style>\n",
       "<table border=\"1\" class=\"dataframe\">\n",
       "  <thead>\n",
       "    <tr style=\"text-align: right;\">\n",
       "      <th></th>\n",
       "      <th>Total Customers</th>\n",
       "      <th>Stay</th>\n",
       "      <th>Churned</th>\n",
       "      <th>Churned rate</th>\n",
       "    </tr>\n",
       "    <tr>\n",
       "      <th>HasCrCard</th>\n",
       "      <th></th>\n",
       "      <th></th>\n",
       "      <th></th>\n",
       "      <th></th>\n",
       "    </tr>\n",
       "  </thead>\n",
       "  <tbody>\n",
       "    <tr>\n",
       "      <th>0</th>\n",
       "      <td>2945</td>\n",
       "      <td>2332</td>\n",
       "      <td>613</td>\n",
       "      <td>20.814941</td>\n",
       "    </tr>\n",
       "    <tr>\n",
       "      <th>1</th>\n",
       "      <td>7055</td>\n",
       "      <td>5631</td>\n",
       "      <td>1424</td>\n",
       "      <td>20.184266</td>\n",
       "    </tr>\n",
       "  </tbody>\n",
       "</table>\n",
       "</div>"
      ],
      "text/plain": [
       "           Total Customers  Stay  Churned  Churned rate\n",
       "HasCrCard                                              \n",
       "0                     2945  2332      613     20.814941\n",
       "1                     7055  5631     1424     20.184266"
      ]
     },
     "execution_count": 30,
     "metadata": {},
     "output_type": "execute_result"
    }
   ],
   "source": [
    "churned= df.groupby(\"HasCrCard\")[\"Churned\"].count().to_frame().rename(columns= {\"Churned\": \"Total Customers\"})\n",
    "churned[\"Stay\"]= df[df[\"Churned\"]==0].groupby(\"HasCrCard\")[\"Churned\"].count()\n",
    "churned[\"Churned\"]= df[df[\"Churned\"]==1].groupby(\"HasCrCard\")[\"Churned\"].count()\n",
    "churned[\"Churned rate\"]= churned[\"Churned\"]/churned[\"Total Customers\"]* 100\n",
    "churned"
   ]
  },
  {
   "cell_type": "code",
   "execution_count": 31,
   "id": "377b017a",
   "metadata": {},
   "outputs": [
    {
     "data": {
      "image/png": "[encoded data removed]",
      "text/plain": [
       "<Figure size 1080x360 with 1 Axes>"
      ]
     },
     "metadata": {
      "needs_background": "light"
     },
     "output_type": "display_data"
    }
   ],
   "source": [
    "countplot(\"HasCrCard\")"
   ]
  },
  {
   "cell_type": "markdown",
   "id": "65d2e36f",
   "metadata": {},
   "source": [
    "### Observation:\n",
    "    1. More than 70% of customers having credit cards.\n",
    "    2. Churned rate among customer who havng credict card and not are same."
   ]
  },
  {
   "cell_type": "markdown",
   "id": "b02c59eb",
   "metadata": {},
   "source": [
    "## 5. How does the activity level (IsActiveMember) affect the likelihood of churn?"
   ]
  },
  {
   "cell_type": "code",
   "execution_count": 32,
   "id": "9a7a2408",
   "metadata": {},
   "outputs": [
    {
     "data": {
      "image/png": "[encoded data removed]",
      "text/plain": [
       "<Figure size 1080x360 with 1 Axes>"
      ]
     },
     "metadata": {
      "needs_background": "light"
     },
     "output_type": "display_data"
    }
   ],
   "source": [
    "countplot(\"IsActiveMember\")"
   ]
  },
  {
   "cell_type": "markdown",
   "id": "b8344e44",
   "metadata": {},
   "source": [
    "## 6.  Is there a correlation between the number of products a customer has and their likelihood of churn?"
   ]
  },
  {
   "cell_type": "code",
   "execution_count": 33,
   "id": "55835412",
   "metadata": {},
   "outputs": [
    {
     "data": {
      "image/png": "[encoded data removed]",
      "text/plain": [
       "<Figure size 1080x360 with 1 Axes>"
      ]
     },
     "metadata": {
      "needs_background": "light"
     },
     "output_type": "display_data"
    }
   ],
   "source": [
    "countplot(\"NumOfProducts\")"
   ]
  },
  {
   "cell_type": "markdown",
   "id": "6319e565",
   "metadata": {},
   "source": [
    "## 7. Does the tenure (length of customer relationship) have an impact on customer churn?"
   ]
  },
  {
   "cell_type": "code",
   "execution_count": 34,
   "id": "5b0b1b58",
   "metadata": {},
   "outputs": [
    {
     "data": {
      "image/png": "[encoded data removed]",
      "text/plain": [
       "<Figure size 1080x360 with 1 Axes>"
      ]
     },
     "metadata": {
      "needs_background": "light"
     },
     "output_type": "display_data"
    }
   ],
   "source": [
    "countplot(\"Tenure\")"
   ]
  },
  {
   "cell_type": "markdown",
   "id": "801d7f10",
   "metadata": {},
   "source": [
    "## 8. What is the distribution of credit scores among churned and non-churned customers?"
   ]
  },
  {
   "cell_type": "code",
   "execution_count": 35,
   "id": "69af1d33",
   "metadata": {},
   "outputs": [
    {
     "data": {
      "image/png": "[encoded data removed]",
      "text/plain": [
       "<Figure size 1080x360 with 1 Axes>"
      ]
     },
     "metadata": {
      "needs_background": "light"
     },
     "output_type": "display_data"
    }
   ],
   "source": [
    "countplot(\"Creditscore_range\")"
   ]
  },
  {
   "cell_type": "code",
   "execution_count": 36,
   "id": "c0ef0cd6",
   "metadata": {},
   "outputs": [],
   "source": [
    "def box_dist(column):\n",
    "    plt.figure(figsize= (15,5))\n",
    "\n",
    "    plt.subplot(1,2, 1)\n",
    "    sns.histplot(x=column,hue=\"Churned\",data=df,kde=True,palette=\"Set2\")\n",
    "    plt.title(f\"Distribution of {column} by Churn Status\",fontweight=\"black\",pad=20,size=15)\n",
    "\n",
    "    \n",
    "\n",
    "    plt.subplot(1,2, 2)\n",
    "    sns.boxplot(df[\"Churned\"],df[column],palette=\"Set2\")\n",
    "    plt.title(f\"Distribution of {column} by Churn Status\",fontweight=\"black\",pad=20,size=15)\n",
    "    plt.tight_layout()\n",
    "    plt.show()"
   ]
  },
  {
   "cell_type": "code",
   "execution_count": 37,
   "id": "1bf36012",
   "metadata": {},
   "outputs": [
    {
     "data": {
      "image/png": "[encoded data removed]",
      "text/plain": [
       "<Figure size 1080x360 with 2 Axes>"
      ]
     },
     "metadata": {
      "needs_background": "light"
     },
     "output_type": "display_data"
    }
   ],
   "source": [
    "box_dist(\"CreditScore\")"
   ]
  },
  {
   "cell_type": "markdown",
   "id": "476d5a3b",
   "metadata": {},
   "source": [
    "## 9. How does the age distribution vary between churned and non-churned customers?"
   ]
  },
  {
   "cell_type": "code",
   "execution_count": 38,
   "id": "0e8f4bf9",
   "metadata": {},
   "outputs": [
    {
     "data": {
      "image/png": "[encoded data removed]",
      "text/plain": [
       "<Figure size 1080x360 with 1 Axes>"
      ]
     },
     "metadata": {
      "needs_background": "light"
     },
     "output_type": "display_data"
    }
   ],
   "source": [
    "countplot(\"Age_Range\")"
   ]
  },
  {
   "cell_type": "code",
   "execution_count": 39,
   "id": "d5515fb8",
   "metadata": {},
   "outputs": [
    {
     "data": {
      "image/png": "[encoded data removed]",
      "text/plain": [
       "<Figure size 1080x360 with 2 Axes>"
      ]
     },
     "metadata": {
      "needs_background": "light"
     },
     "output_type": "display_data"
    }
   ],
   "source": [
    "box_dist(\"Age\")"
   ]
  },
  {
   "cell_type": "markdown",
   "id": "41db6962",
   "metadata": {},
   "source": [
    "## 10.  What is the distribution of account balances for churned and non-churned customers?"
   ]
  },
  {
   "cell_type": "code",
   "execution_count": 40,
   "id": "2996af5f",
   "metadata": {},
   "outputs": [
    {
     "data": {
      "image/png": "[encoded data removed]",
      "text/plain": [
       "<Figure size 1080x360 with 2 Axes>"
      ]
     },
     "metadata": {
      "needs_background": "light"
     },
     "output_type": "display_data"
    }
   ],
   "source": [
    "box_dist(\"Balance\")"
   ]
  },
  {
   "cell_type": "markdown",
   "id": "3e2e41e4",
   "metadata": {},
   "source": [
    "## 11. Visualizing Customer Churned by \"Estimated Salary\"."
   ]
  },
  {
   "cell_type": "code",
   "execution_count": 41,
   "id": "4b9bff50",
   "metadata": {},
   "outputs": [
    {
     "data": {
      "image/png": "[encoded data removed]",
      "text/plain": [
       "<Figure size 1080x360 with 1 Axes>"
      ]
     },
     "metadata": {
      "needs_background": "light"
     },
     "output_type": "display_data"
    }
   ],
   "source": [
    "countplot(\"salary_Range\")"
   ]
  },
  {
   "cell_type": "code",
   "execution_count": 42,
   "id": "931bcb6e",
   "metadata": {},
   "outputs": [
    {
     "data": {
      "image/png": "[encoded data removed]",
      "text/plain": [
       "<Figure size 1080x360 with 2 Axes>"
      ]
     },
     "metadata": {
      "needs_background": "light"
     },
     "output_type": "display_data"
    }
   ],
   "source": [
    "box_dist(\"EstimatedSalary\")"
   ]
  },
  {
   "cell_type": "markdown",
   "id": "01ea721d",
   "metadata": {},
   "source": [
    "# DATA PREPROCESSNG"
   ]
  },
  {
   "cell_type": "markdown",
   "id": "0abc1e94",
   "metadata": {},
   "source": [
    "## 1. Checking Skewness of Continous Features."
   ]
  },
  {
   "cell_type": "code",
   "execution_count": 43,
   "id": "0cc9cd53",
   "metadata": {},
   "outputs": [],
   "source": [
    "num_col=  [\"CreditScore\",\"Age\",\"EstimatedSalary\"]"
   ]
  },
  {
   "cell_type": "code",
   "execution_count": 44,
   "id": "745564dc",
   "metadata": {},
   "outputs": [
    {
     "data": {
      "text/html": [
       "<div>\n",
       "<style scoped>\n",
       "    .dataframe tbody tr th:only-of-type {\n",
       "        vertical-align: middle;\n",
       "    }\n",
       "\n",
       "    .dataframe tbody tr th {\n",
       "        vertical-align: top;\n",
       "    }\n",
       "\n",
       "    .dataframe thead th {\n",
       "        text-align: right;\n",
       "    }\n",
       "</style>\n",
       "<table border=\"1\" class=\"dataframe\">\n",
       "  <thead>\n",
       "    <tr style=\"text-align: right;\">\n",
       "      <th></th>\n",
       "      <th>skewness</th>\n",
       "    </tr>\n",
       "  </thead>\n",
       "  <tbody>\n",
       "    <tr>\n",
       "      <th>CreditScore</th>\n",
       "      <td>-0.071607</td>\n",
       "    </tr>\n",
       "    <tr>\n",
       "      <th>Age</th>\n",
       "      <td>1.011320</td>\n",
       "    </tr>\n",
       "    <tr>\n",
       "      <th>EstimatedSalary</th>\n",
       "      <td>0.002085</td>\n",
       "    </tr>\n",
       "  </tbody>\n",
       "</table>\n",
       "</div>"
      ],
      "text/plain": [
       "                 skewness\n",
       "CreditScore     -0.071607\n",
       "Age              1.011320\n",
       "EstimatedSalary  0.002085"
      ]
     },
     "execution_count": 44,
     "metadata": {},
     "output_type": "execute_result"
    }
   ],
   "source": [
    "df[num_col].skew().to_frame().rename(columns= {0: \"skewness\"})"
   ]
  },
  {
   "cell_type": "code",
   "execution_count": 45,
   "id": "1a98a26c",
   "metadata": {},
   "outputs": [],
   "source": [
    "# age column is highly right skewed. skeweness can impact the performance of model.\n",
    "# to overcome the righ skewed distribution we can perform log transformation on age column to get normal distribution"
   ]
  },
  {
   "cell_type": "code",
   "execution_count": 46,
   "id": "b22dbf06",
   "metadata": {},
   "outputs": [],
   "source": [
    "old_age= df[\"Age\"]\n",
    "df[\"Age\"]= np.log(df[\"Age\"])"
   ]
  },
  {
   "cell_type": "code",
   "execution_count": 47,
   "id": "1165053f",
   "metadata": {
    "scrolled": true
   },
   "outputs": [
    {
     "data": {
      "image/png": "[encoded data removed]",
      "text/plain": [
       "<Figure size 1080x360 with 2 Axes>"
      ]
     },
     "metadata": {
      "needs_background": "light"
     },
     "output_type": "display_data"
    }
   ],
   "source": [
    "plt.figure(figsize= (15,5))\n",
    "\n",
    "plt.subplot(1,2, 1)\n",
    "sns.histplot(x= old_age,kde=True,palette=\"Set2\")\n",
    "plt.title(f\"Distribution of Age before log tranfomation\",fontweight=\"black\",pad=20,size=15)\n",
    "    \n",
    "plt.subplot(1,2, 2)\n",
    "sns.histplot(x= df[\"Age\"],kde=True,palette=\"Set2\")\n",
    "plt.title(f\"Distribution of Age after log tranfomation\",fontweight=\"black\",pad=20,size=15)\n",
    "plt.show()"
   ]
  },
  {
   "cell_type": "markdown",
   "id": "28f57235",
   "metadata": {},
   "source": [
    "## 2. Feature selection:"
   ]
  },
  {
   "cell_type": "code",
   "execution_count": 48,
   "id": "74f17592",
   "metadata": {},
   "outputs": [
    {
     "data": {
      "image/png": "[encoded data removed]",
      "text/plain": [
       "<Figure size 1080x360 with 2 Axes>"
      ]
     },
     "metadata": {
      "needs_background": "light"
     },
     "output_type": "display_data"
    }
   ],
   "source": [
    "plt.figure(figsize= (15,5))\n",
    "sns.heatmap(df.corr(), annot= True)\n",
    "plt.show()"
   ]
  },
  {
   "cell_type": "code",
   "execution_count": 49,
   "id": "2ee084f8",
   "metadata": {},
   "outputs": [],
   "source": [
    "## 3. Separating Indepenent (x) and Dependent Variable (y):"
   ]
  },
  {
   "cell_type": "code",
   "execution_count": 50,
   "id": "e77e31aa",
   "metadata": {},
   "outputs": [],
   "source": [
    "x= df.iloc[:, :-4]"
   ]
  },
  {
   "cell_type": "code",
   "execution_count": 51,
   "id": "011024ca",
   "metadata": {},
   "outputs": [
    {
     "data": {
      "text/html": [
       "<div>\n",
       "<style scoped>\n",
       "    .dataframe tbody tr th:only-of-type {\n",
       "        vertical-align: middle;\n",
       "    }\n",
       "\n",
       "    .dataframe tbody tr th {\n",
       "        vertical-align: top;\n",
       "    }\n",
       "\n",
       "    .dataframe thead th {\n",
       "        text-align: right;\n",
       "    }\n",
       "</style>\n",
       "<table border=\"1\" class=\"dataframe\">\n",
       "  <thead>\n",
       "    <tr style=\"text-align: right;\">\n",
       "      <th></th>\n",
       "      <th>CreditScore</th>\n",
       "      <th>Geography</th>\n",
       "      <th>Gender</th>\n",
       "      <th>Age</th>\n",
       "      <th>Tenure</th>\n",
       "      <th>Balance</th>\n",
       "      <th>NumOfProducts</th>\n",
       "      <th>HasCrCard</th>\n",
       "      <th>IsActiveMember</th>\n",
       "      <th>EstimatedSalary</th>\n",
       "    </tr>\n",
       "  </thead>\n",
       "  <tbody>\n",
       "    <tr>\n",
       "      <th>0</th>\n",
       "      <td>619</td>\n",
       "      <td>France</td>\n",
       "      <td>Female</td>\n",
       "      <td>3.737670</td>\n",
       "      <td>2</td>\n",
       "      <td>0.00</td>\n",
       "      <td>1</td>\n",
       "      <td>1</td>\n",
       "      <td>1</td>\n",
       "      <td>101348.88</td>\n",
       "    </tr>\n",
       "    <tr>\n",
       "      <th>1</th>\n",
       "      <td>608</td>\n",
       "      <td>Spain</td>\n",
       "      <td>Female</td>\n",
       "      <td>3.713572</td>\n",
       "      <td>1</td>\n",
       "      <td>83807.86</td>\n",
       "      <td>1</td>\n",
       "      <td>0</td>\n",
       "      <td>1</td>\n",
       "      <td>112542.58</td>\n",
       "    </tr>\n",
       "    <tr>\n",
       "      <th>2</th>\n",
       "      <td>502</td>\n",
       "      <td>France</td>\n",
       "      <td>Female</td>\n",
       "      <td>3.737670</td>\n",
       "      <td>8</td>\n",
       "      <td>159660.80</td>\n",
       "      <td>3</td>\n",
       "      <td>1</td>\n",
       "      <td>0</td>\n",
       "      <td>113931.57</td>\n",
       "    </tr>\n",
       "    <tr>\n",
       "      <th>3</th>\n",
       "      <td>699</td>\n",
       "      <td>France</td>\n",
       "      <td>Female</td>\n",
       "      <td>3.663562</td>\n",
       "      <td>1</td>\n",
       "      <td>0.00</td>\n",
       "      <td>2</td>\n",
       "      <td>0</td>\n",
       "      <td>0</td>\n",
       "      <td>93826.63</td>\n",
       "    </tr>\n",
       "    <tr>\n",
       "      <th>4</th>\n",
       "      <td>850</td>\n",
       "      <td>Spain</td>\n",
       "      <td>Female</td>\n",
       "      <td>3.761200</td>\n",
       "      <td>2</td>\n",
       "      <td>125510.82</td>\n",
       "      <td>1</td>\n",
       "      <td>1</td>\n",
       "      <td>1</td>\n",
       "      <td>79084.10</td>\n",
       "    </tr>\n",
       "    <tr>\n",
       "      <th>...</th>\n",
       "      <td>...</td>\n",
       "      <td>...</td>\n",
       "      <td>...</td>\n",
       "      <td>...</td>\n",
       "      <td>...</td>\n",
       "      <td>...</td>\n",
       "      <td>...</td>\n",
       "      <td>...</td>\n",
       "      <td>...</td>\n",
       "      <td>...</td>\n",
       "    </tr>\n",
       "    <tr>\n",
       "      <th>9995</th>\n",
       "      <td>771</td>\n",
       "      <td>France</td>\n",
       "      <td>Male</td>\n",
       "      <td>3.663562</td>\n",
       "      <td>5</td>\n",
       "      <td>0.00</td>\n",
       "      <td>2</td>\n",
       "      <td>1</td>\n",
       "      <td>0</td>\n",
       "      <td>96270.64</td>\n",
       "    </tr>\n",
       "    <tr>\n",
       "      <th>9996</th>\n",
       "      <td>516</td>\n",
       "      <td>France</td>\n",
       "      <td>Male</td>\n",
       "      <td>3.555348</td>\n",
       "      <td>10</td>\n",
       "      <td>57369.61</td>\n",
       "      <td>1</td>\n",
       "      <td>1</td>\n",
       "      <td>1</td>\n",
       "      <td>101699.77</td>\n",
       "    </tr>\n",
       "    <tr>\n",
       "      <th>9997</th>\n",
       "      <td>709</td>\n",
       "      <td>France</td>\n",
       "      <td>Female</td>\n",
       "      <td>3.583519</td>\n",
       "      <td>7</td>\n",
       "      <td>0.00</td>\n",
       "      <td>1</td>\n",
       "      <td>0</td>\n",
       "      <td>1</td>\n",
       "      <td>42085.58</td>\n",
       "    </tr>\n",
       "    <tr>\n",
       "      <th>9998</th>\n",
       "      <td>772</td>\n",
       "      <td>Germany</td>\n",
       "      <td>Male</td>\n",
       "      <td>3.737670</td>\n",
       "      <td>3</td>\n",
       "      <td>75075.31</td>\n",
       "      <td>2</td>\n",
       "      <td>1</td>\n",
       "      <td>0</td>\n",
       "      <td>92888.52</td>\n",
       "    </tr>\n",
       "    <tr>\n",
       "      <th>9999</th>\n",
       "      <td>792</td>\n",
       "      <td>France</td>\n",
       "      <td>Female</td>\n",
       "      <td>3.332205</td>\n",
       "      <td>4</td>\n",
       "      <td>130142.79</td>\n",
       "      <td>1</td>\n",
       "      <td>1</td>\n",
       "      <td>0</td>\n",
       "      <td>38190.78</td>\n",
       "    </tr>\n",
       "  </tbody>\n",
       "</table>\n",
       "<p>10000 rows × 10 columns</p>\n",
       "</div>"
      ],
      "text/plain": [
       "      CreditScore Geography  Gender       Age  Tenure    Balance  \\\n",
       "0             619    France  Female  3.737670       2       0.00   \n",
       "1             608     Spain  Female  3.713572       1   83807.86   \n",
       "2             502    France  Female  3.737670       8  159660.80   \n",
       "3             699    France  Female  3.663562       1       0.00   \n",
       "4             850     Spain  Female  3.761200       2  125510.82   \n",
       "...           ...       ...     ...       ...     ...        ...   \n",
       "9995          771    France    Male  3.663562       5       0.00   \n",
       "9996          516    France    Male  3.555348      10   57369.61   \n",
       "9997          709    France  Female  3.583519       7       0.00   \n",
       "9998          772   Germany    Male  3.737670       3   75075.31   \n",
       "9999          792    France  Female  3.332205       4  130142.79   \n",
       "\n",
       "      NumOfProducts  HasCrCard  IsActiveMember  EstimatedSalary  \n",
       "0                 1          1               1        101348.88  \n",
       "1                 1          0               1        112542.58  \n",
       "2                 3          1               0        113931.57  \n",
       "3                 2          0               0         93826.63  \n",
       "4                 1          1               1         79084.10  \n",
       "...             ...        ...             ...              ...  \n",
       "9995              2          1               0         96270.64  \n",
       "9996              1          1               1        101699.77  \n",
       "9997              1          0               1         42085.58  \n",
       "9998              2          1               0         92888.52  \n",
       "9999              1          1               0         38190.78  \n",
       "\n",
       "[10000 rows x 10 columns]"
      ]
     },
     "execution_count": 51,
     "metadata": {},
     "output_type": "execute_result"
    }
   ],
   "source": [
    "x"
   ]
  },
  {
   "cell_type": "code",
   "execution_count": 52,
   "id": "fc287d1e",
   "metadata": {},
   "outputs": [],
   "source": [
    "y = df[\"Churned\"]"
   ]
  },
  {
   "cell_type": "code",
   "execution_count": 53,
   "id": "7b1522c9",
   "metadata": {},
   "outputs": [
    {
     "data": {
      "text/plain": [
       "0       1\n",
       "1       0\n",
       "2       1\n",
       "3       0\n",
       "4       0\n",
       "       ..\n",
       "9995    0\n",
       "9996    0\n",
       "9997    1\n",
       "9998    1\n",
       "9999    0\n",
       "Name: Churned, Length: 10000, dtype: int64"
      ]
     },
     "execution_count": 53,
     "metadata": {},
     "output_type": "execute_result"
    }
   ],
   "source": [
    "y"
   ]
  },
  {
   "cell_type": "markdown",
   "id": "9937eda4",
   "metadata": {},
   "source": [
    "## 4. Encoding"
   ]
  },
  {
   "cell_type": "code",
   "execution_count": 54,
   "id": "23a54b2c",
   "metadata": {},
   "outputs": [
    {
     "data": {
      "text/plain": [
       "Index(['Geography', 'Gender', 'Creditscore_range'], dtype='object')"
      ]
     },
     "execution_count": 54,
     "metadata": {},
     "output_type": "execute_result"
    }
   ],
   "source": [
    "cat_col= df.select_dtypes(include= \"object\").columns\n",
    "cat_col"
   ]
  },
  {
   "cell_type": "code",
   "execution_count": 55,
   "id": "ddd08d5e",
   "metadata": {},
   "outputs": [],
   "source": [
    "from sklearn.compose import ColumnTransformer\n"
   ]
  },
  {
   "cell_type": "code",
   "execution_count": 56,
   "id": "99e7eb51",
   "metadata": {},
   "outputs": [],
   "source": [
    "ct=ColumnTransformer([(\"oencoder\", OrdinalEncoder(),['Geography', 'Gender'])], remainder= \"passthrough\")"
   ]
  },
  {
   "cell_type": "code",
   "execution_count": 57,
   "id": "e11448ee",
   "metadata": {},
   "outputs": [],
   "source": [
    "x=ct.fit_transform(x)"
   ]
  },
  {
   "cell_type": "code",
   "execution_count": 58,
   "id": "20b4e08a",
   "metadata": {
    "scrolled": true
   },
   "outputs": [
    {
     "data": {
      "text/html": [
       "<div>\n",
       "<style scoped>\n",
       "    .dataframe tbody tr th:only-of-type {\n",
       "        vertical-align: middle;\n",
       "    }\n",
       "\n",
       "    .dataframe tbody tr th {\n",
       "        vertical-align: top;\n",
       "    }\n",
       "\n",
       "    .dataframe thead th {\n",
       "        text-align: right;\n",
       "    }\n",
       "</style>\n",
       "<table border=\"1\" class=\"dataframe\">\n",
       "  <thead>\n",
       "    <tr style=\"text-align: right;\">\n",
       "      <th></th>\n",
       "      <th>CreditScore</th>\n",
       "      <th>Geography</th>\n",
       "      <th>Gender</th>\n",
       "      <th>Age</th>\n",
       "      <th>Tenure</th>\n",
       "      <th>Balance</th>\n",
       "      <th>NumOfProducts</th>\n",
       "      <th>HasCrCard</th>\n",
       "      <th>IsActiveMember</th>\n",
       "      <th>EstimatedSalary</th>\n",
       "      <th>Churned</th>\n",
       "      <th>Creditscore_range</th>\n",
       "      <th>Age_Range</th>\n",
       "      <th>salary_Range</th>\n",
       "    </tr>\n",
       "  </thead>\n",
       "  <tbody>\n",
       "    <tr>\n",
       "      <th>0</th>\n",
       "      <td>619</td>\n",
       "      <td>France</td>\n",
       "      <td>Female</td>\n",
       "      <td>3.737670</td>\n",
       "      <td>2</td>\n",
       "      <td>0.00</td>\n",
       "      <td>1</td>\n",
       "      <td>1</td>\n",
       "      <td>1</td>\n",
       "      <td>101348.88</td>\n",
       "      <td>1</td>\n",
       "      <td>Low</td>\n",
       "      <td>40-59</td>\n",
       "      <td>High</td>\n",
       "    </tr>\n",
       "    <tr>\n",
       "      <th>1</th>\n",
       "      <td>608</td>\n",
       "      <td>Spain</td>\n",
       "      <td>Female</td>\n",
       "      <td>3.713572</td>\n",
       "      <td>1</td>\n",
       "      <td>83807.86</td>\n",
       "      <td>1</td>\n",
       "      <td>0</td>\n",
       "      <td>1</td>\n",
       "      <td>112542.58</td>\n",
       "      <td>0</td>\n",
       "      <td>Low</td>\n",
       "      <td>40-59</td>\n",
       "      <td>High</td>\n",
       "    </tr>\n",
       "    <tr>\n",
       "      <th>2</th>\n",
       "      <td>502</td>\n",
       "      <td>France</td>\n",
       "      <td>Female</td>\n",
       "      <td>3.737670</td>\n",
       "      <td>8</td>\n",
       "      <td>159660.80</td>\n",
       "      <td>3</td>\n",
       "      <td>1</td>\n",
       "      <td>0</td>\n",
       "      <td>113931.57</td>\n",
       "      <td>1</td>\n",
       "      <td>Very Low</td>\n",
       "      <td>40-59</td>\n",
       "      <td>High</td>\n",
       "    </tr>\n",
       "    <tr>\n",
       "      <th>3</th>\n",
       "      <td>699</td>\n",
       "      <td>France</td>\n",
       "      <td>Female</td>\n",
       "      <td>3.663562</td>\n",
       "      <td>1</td>\n",
       "      <td>0.00</td>\n",
       "      <td>2</td>\n",
       "      <td>0</td>\n",
       "      <td>0</td>\n",
       "      <td>93826.63</td>\n",
       "      <td>0</td>\n",
       "      <td>Fair</td>\n",
       "      <td>20-39</td>\n",
       "      <td>Medium</td>\n",
       "    </tr>\n",
       "    <tr>\n",
       "      <th>4</th>\n",
       "      <td>850</td>\n",
       "      <td>Spain</td>\n",
       "      <td>Female</td>\n",
       "      <td>3.761200</td>\n",
       "      <td>2</td>\n",
       "      <td>125510.82</td>\n",
       "      <td>1</td>\n",
       "      <td>1</td>\n",
       "      <td>1</td>\n",
       "      <td>79084.10</td>\n",
       "      <td>0</td>\n",
       "      <td>Excellent</td>\n",
       "      <td>40-59</td>\n",
       "      <td>Medium</td>\n",
       "    </tr>\n",
       "    <tr>\n",
       "      <th>...</th>\n",
       "      <td>...</td>\n",
       "      <td>...</td>\n",
       "      <td>...</td>\n",
       "      <td>...</td>\n",
       "      <td>...</td>\n",
       "      <td>...</td>\n",
       "      <td>...</td>\n",
       "      <td>...</td>\n",
       "      <td>...</td>\n",
       "      <td>...</td>\n",
       "      <td>...</td>\n",
       "      <td>...</td>\n",
       "      <td>...</td>\n",
       "      <td>...</td>\n",
       "    </tr>\n",
       "    <tr>\n",
       "      <th>9995</th>\n",
       "      <td>771</td>\n",
       "      <td>France</td>\n",
       "      <td>Male</td>\n",
       "      <td>3.663562</td>\n",
       "      <td>5</td>\n",
       "      <td>0.00</td>\n",
       "      <td>2</td>\n",
       "      <td>1</td>\n",
       "      <td>0</td>\n",
       "      <td>96270.64</td>\n",
       "      <td>0</td>\n",
       "      <td>Excellent</td>\n",
       "      <td>20-39</td>\n",
       "      <td>Medium</td>\n",
       "    </tr>\n",
       "    <tr>\n",
       "      <th>9996</th>\n",
       "      <td>516</td>\n",
       "      <td>France</td>\n",
       "      <td>Male</td>\n",
       "      <td>3.555348</td>\n",
       "      <td>10</td>\n",
       "      <td>57369.61</td>\n",
       "      <td>1</td>\n",
       "      <td>1</td>\n",
       "      <td>1</td>\n",
       "      <td>101699.77</td>\n",
       "      <td>0</td>\n",
       "      <td>Very Low</td>\n",
       "      <td>20-39</td>\n",
       "      <td>High</td>\n",
       "    </tr>\n",
       "    <tr>\n",
       "      <th>9997</th>\n",
       "      <td>709</td>\n",
       "      <td>France</td>\n",
       "      <td>Female</td>\n",
       "      <td>3.583519</td>\n",
       "      <td>7</td>\n",
       "      <td>0.00</td>\n",
       "      <td>1</td>\n",
       "      <td>0</td>\n",
       "      <td>1</td>\n",
       "      <td>42085.58</td>\n",
       "      <td>1</td>\n",
       "      <td>Good</td>\n",
       "      <td>20-39</td>\n",
       "      <td>Low</td>\n",
       "    </tr>\n",
       "    <tr>\n",
       "      <th>9998</th>\n",
       "      <td>772</td>\n",
       "      <td>Germany</td>\n",
       "      <td>Male</td>\n",
       "      <td>3.737670</td>\n",
       "      <td>3</td>\n",
       "      <td>75075.31</td>\n",
       "      <td>2</td>\n",
       "      <td>1</td>\n",
       "      <td>0</td>\n",
       "      <td>92888.52</td>\n",
       "      <td>1</td>\n",
       "      <td>Excellent</td>\n",
       "      <td>40-59</td>\n",
       "      <td>Medium</td>\n",
       "    </tr>\n",
       "    <tr>\n",
       "      <th>9999</th>\n",
       "      <td>792</td>\n",
       "      <td>France</td>\n",
       "      <td>Female</td>\n",
       "      <td>3.332205</td>\n",
       "      <td>4</td>\n",
       "      <td>130142.79</td>\n",
       "      <td>1</td>\n",
       "      <td>1</td>\n",
       "      <td>0</td>\n",
       "      <td>38190.78</td>\n",
       "      <td>0</td>\n",
       "      <td>Excellent</td>\n",
       "      <td>20-39</td>\n",
       "      <td>Low</td>\n",
       "    </tr>\n",
       "  </tbody>\n",
       "</table>\n",
       "<p>10000 rows × 14 columns</p>\n",
       "</div>"
      ],
      "text/plain": [
       "      CreditScore Geography  Gender       Age  Tenure    Balance  \\\n",
       "0             619    France  Female  3.737670       2       0.00   \n",
       "1             608     Spain  Female  3.713572       1   83807.86   \n",
       "2             502    France  Female  3.737670       8  159660.80   \n",
       "3             699    France  Female  3.663562       1       0.00   \n",
       "4             850     Spain  Female  3.761200       2  125510.82   \n",
       "...           ...       ...     ...       ...     ...        ...   \n",
       "9995          771    France    Male  3.663562       5       0.00   \n",
       "9996          516    France    Male  3.555348      10   57369.61   \n",
       "9997          709    France  Female  3.583519       7       0.00   \n",
       "9998          772   Germany    Male  3.737670       3   75075.31   \n",
       "9999          792    France  Female  3.332205       4  130142.79   \n",
       "\n",
       "      NumOfProducts  HasCrCard  IsActiveMember  EstimatedSalary  Churned  \\\n",
       "0                 1          1               1        101348.88        1   \n",
       "1                 1          0               1        112542.58        0   \n",
       "2                 3          1               0        113931.57        1   \n",
       "3                 2          0               0         93826.63        0   \n",
       "4                 1          1               1         79084.10        0   \n",
       "...             ...        ...             ...              ...      ...   \n",
       "9995              2          1               0         96270.64        0   \n",
       "9996              1          1               1        101699.77        0   \n",
       "9997              1          0               1         42085.58        1   \n",
       "9998              2          1               0         92888.52        1   \n",
       "9999              1          1               0         38190.78        0   \n",
       "\n",
       "     Creditscore_range Age_Range salary_Range  \n",
       "0                  Low     40-59         High  \n",
       "1                  Low     40-59         High  \n",
       "2             Very Low     40-59         High  \n",
       "3                 Fair     20-39       Medium  \n",
       "4            Excellent     40-59       Medium  \n",
       "...                ...       ...          ...  \n",
       "9995         Excellent     20-39       Medium  \n",
       "9996          Very Low     20-39         High  \n",
       "9997              Good     20-39          Low  \n",
       "9998         Excellent     40-59       Medium  \n",
       "9999         Excellent     20-39          Low  \n",
       "\n",
       "[10000 rows x 14 columns]"
      ]
     },
     "execution_count": 58,
     "metadata": {},
     "output_type": "execute_result"
    }
   ],
   "source": [
    "df"
   ]
  },
  {
   "cell_type": "markdown",
   "id": "a48ee2e8",
   "metadata": {},
   "source": []
  },
  {
   "cell_type": "markdown",
   "id": "4cfee005",
   "metadata": {},
   "source": [
    "## 5. Applying SMOTE to Overcome the Class-Imbalance in Target Variable"
   ]
  },
  {
   "cell_type": "code",
   "execution_count": 59,
   "id": "3e2e718a",
   "metadata": {},
   "outputs": [],
   "source": [
    "smt= SMOTE(random_state=123)\n",
    "x_resampled, y_resampled= smt.fit_resample(x, y)"
   ]
  },
  {
   "cell_type": "code",
   "execution_count": 60,
   "id": "480c7fd1",
   "metadata": {
    "scrolled": false
   },
   "outputs": [
    {
     "data": {
      "image/png": "[encoded data removed]",
      "text/plain": [
       "<Figure size 1080x360 with 2 Axes>"
      ]
     },
     "metadata": {
      "needs_background": "light"
     },
     "output_type": "display_data"
    }
   ],
   "source": [
    "plt.figure(figsize= (15,5))\n",
    "plt.subplot(1,2,1)\n",
    "sns.countplot(y)\n",
    "plt.title(f\"Target column before resampling\",fontweight=\"black\",pad=20,size=15)\n",
    "plt.subplot(1,2,2)\n",
    "sns.countplot(y_resampled)\n",
    "plt.title(f\"Target column after resampling\",fontweight=\"black\",pad=20,size=15)\n",
    "plt.show()"
   ]
  },
  {
   "cell_type": "markdown",
   "id": "c976b15d",
   "metadata": {},
   "source": [
    "## 6. Splitting Data for Model Training and testing:"
   ]
  },
  {
   "cell_type": "code",
   "execution_count": 61,
   "id": "b2c4b322",
   "metadata": {},
   "outputs": [],
   "source": [
    "xtrain, xtest, ytrain, ytest= train_test_split(x_resampled, y_resampled, random_state= 123, test_size= 0.20)"
   ]
  },
  {
   "cell_type": "code",
   "execution_count": 62,
   "id": "67029498",
   "metadata": {},
   "outputs": [
    {
     "data": {
      "text/plain": [
       "((12740, 10), (12740,))"
      ]
     },
     "execution_count": 62,
     "metadata": {},
     "output_type": "execute_result"
    }
   ],
   "source": [
    "xtrain.shape, ytrain.shape"
   ]
  },
  {
   "cell_type": "code",
   "execution_count": 63,
   "id": "babf04fc",
   "metadata": {},
   "outputs": [
    {
     "data": {
      "text/plain": [
       "((3186, 10), (3186,))"
      ]
     },
     "execution_count": 63,
     "metadata": {},
     "output_type": "execute_result"
    }
   ],
   "source": [
    "xtest.shape, ytest.shape"
   ]
  },
  {
   "cell_type": "code",
   "execution_count": 64,
   "id": "ad1395b4",
   "metadata": {},
   "outputs": [],
   "source": [
    "#Both the categories in Target variable are now having equal number of records."
   ]
  },
  {
   "cell_type": "code",
   "execution_count": 65,
   "id": "ae3a2938",
   "metadata": {},
   "outputs": [],
   "source": [
    "sc= StandardScaler()\n",
    "xtrain1= sc.fit_transform(xtrain)\n",
    "xtest1= sc.fit_transform(xtest)"
   ]
  },
  {
   "cell_type": "markdown",
   "id": "eb4524e0",
   "metadata": {},
   "source": [
    "# MODEL BUILDING:"
   ]
  },
  {
   "cell_type": "code",
   "execution_count": 66,
   "id": "d1ee7eaf",
   "metadata": {},
   "outputs": [],
   "source": [
    "\n",
    "knn= KNeighborsClassifier(n_neighbors=3)\n",
    "lreg= LogisticRegression()\n",
    "dt= DecisionTreeClassifier()\n",
    "rf= RandomForestClassifier()\n",
    "ad= AdaBoostClassifier()\n",
    "xg= XGBClassifier()\n",
    "gd= GradientBoostingClassifier()\n"
   ]
  },
  {
   "cell_type": "code",
   "execution_count": 67,
   "id": "954cfde9",
   "metadata": {},
   "outputs": [],
   "source": [
    "Training_score= []\n",
    "Testing_score= []\n",
    "def model_building(model):\n",
    "    model.fit(xtrain, ytrain)\n",
    "    ytrain_pred= model.predict(xtrain)\n",
    "    ytest_pred= model.predict(xtest)\n",
    "    a= accuracy_score(ytrain, ytrain_pred)\n",
    "    b= accuracy_score(ytest, ytest_pred)\n",
    "    Training_score.append(a)\n",
    "    Testing_score.append(b)\n",
    "    print(model)\n",
    "    print(\"Train Data\\n\", classification_report(ytrain,ytrain_pred))\n",
    "    print(\"Test Data\\n\", classification_report(ytest,ytest_pred))\n",
    "    \n",
    " # function for model which require scaling    \n",
    "def smodel_building(model):\n",
    "    model.fit(xtrain1, ytrain)\n",
    "    ytrain_pred= model.predict(xtrain1)\n",
    "    ytest_pred= model.predict(xtest1)\n",
    "    a= accuracy_score(ytrain, ytrain_pred)\n",
    "    b= accuracy_score(ytest, ytest_pred)\n",
    "    Training_score.append(a)\n",
    "    Testing_score.append(b)\n",
    "    print(model)\n",
    "    print(\"Train Data\\n\", classification_report(ytrain,ytrain_pred))\n",
    "    print(\"Test Data\\n\", classification_report(ytest,ytest_pred))  \n",
    "    "
   ]
  },
  {
   "cell_type": "code",
   "execution_count": 68,
   "id": "cec0d0ac",
   "metadata": {},
   "outputs": [],
   "source": [
    "def roc_auc_curve(model):\n",
    "    ytest_proba= model.predict_proba(xtest)\n",
    "    fpr, tpr, threshold= roc_curve(ytest, ytest_proba[:, 1])\n",
    "    roc_score= roc_auc_score(ytest, ytest_proba[:, 1])\n",
    "    sns.lineplot(x= fpr, y= tpr)\n",
    "    sns.lineplot(x= [0.0, 1.0], y= [0.0, 1.0], color = \"red\", linestyle= \"--\")\n",
    "    plt.xlabel(\"FPR\")\n",
    "    plt.ylabel(\"TPR\")\n",
    "    plt.title(\"ROC-AUC CURVE\",fontweight=\"black\",pad=20,size=15)\n",
    "    print(roc_score)\n",
    "def sroc_auc_curve(model):\n",
    "    ytest_proba= model.predict_proba(xtest1)\n",
    "    fpr, tpr, threshold= roc_curve(ytest, ytest_proba[:, 1])\n",
    "    roc_score= roc_auc_score(ytest, ytest_proba[:, 1])\n",
    "    sns.lineplot(x= fpr, y= tpr)\n",
    "    sns.lineplot(x= [0.0, 1.0], y= [0.0, 1.0], color = \"red\", linestyle= \"--\")\n",
    "    plt.xlabel(\"FPR\")\n",
    "    plt.ylabel(\"TPR\")\n",
    "    plt.title(\"ROC-AUC CURVE\",fontweight=\"black\",pad=20,size=15)\n",
    "    print(roc_score)"
   ]
  },
  {
   "cell_type": "code",
   "execution_count": 69,
   "id": "f3af9b06",
   "metadata": {},
   "outputs": [],
   "source": [
    "log_l=[]\n",
    "def calculate_logloss(model):\n",
    "    print(\"log_loss\")\n",
    "    ytest_proba= model.predict_proba(xtest)\n",
    "    logloss= log_loss(ytest, ytest_proba[:, -1])\n",
    "    log_l.append(logloss)\n",
    "    return logloss\n",
    "def scalculate_logloss(model):\n",
    "    print(\"log_loss\")\n",
    "    ytest_proba= model.predict_proba(xtest1)\n",
    "    logloss= log_loss(ytest ,ytest_proba[:, -1])\n",
    "    log_l.append(logloss)\n",
    "    return logloss"
   ]
  },
  {
   "cell_type": "markdown",
   "id": "3f54a2d2",
   "metadata": {},
   "source": [
    "# K-Nearest Neighbors model"
   ]
  },
  {
   "cell_type": "code",
   "execution_count": 70,
   "id": "9bd7f33f",
   "metadata": {},
   "outputs": [
    {
     "name": "stdout",
     "output_type": "stream",
     "text": [
      "KNeighborsClassifier(n_neighbors=3)\n",
      "Train Data\n",
      "               precision    recall  f1-score   support\n",
      "\n",
      "           0       0.96      0.91      0.93      6350\n",
      "           1       0.91      0.96      0.93      6390\n",
      "\n",
      "    accuracy                           0.93     12740\n",
      "   macro avg       0.93      0.93      0.93     12740\n",
      "weighted avg       0.93      0.93      0.93     12740\n",
      "\n",
      "Test Data\n",
      "               precision    recall  f1-score   support\n",
      "\n",
      "           0       0.88      0.82      0.85      1613\n",
      "           1       0.83      0.88      0.85      1573\n",
      "\n",
      "    accuracy                           0.85      3186\n",
      "   macro avg       0.85      0.85      0.85      3186\n",
      "weighted avg       0.85      0.85      0.85      3186\n",
      "\n",
      "0.9165442571856369\n",
      "log_loss\n",
      "1.6009059672270665\n"
     ]
    },
    {
     "data": {
      "image/png": "[encoded data removed]",
      "text/plain": [
       "<Figure size 432x288 with 1 Axes>"
      ]
     },
     "metadata": {
      "needs_background": "light"
     },
     "output_type": "display_data"
    }
   ],
   "source": [
    "smodel_building(knn)\n",
    "sroc_auc_curve(knn)\n",
    "print(scalculate_logloss(knn))"
   ]
  },
  {
   "cell_type": "markdown",
   "id": "781bf92f",
   "metadata": {},
   "source": [
    "# Logistic Regression Model"
   ]
  },
  {
   "cell_type": "code",
   "execution_count": 71,
   "id": "ecf99792",
   "metadata": {},
   "outputs": [
    {
     "name": "stdout",
     "output_type": "stream",
     "text": [
      "LogisticRegression()\n",
      "Train Data\n",
      "               precision    recall  f1-score   support\n",
      "\n",
      "           0       0.71      0.69      0.70      6350\n",
      "           1       0.70      0.73      0.71      6390\n",
      "\n",
      "    accuracy                           0.71     12740\n",
      "   macro avg       0.71      0.71      0.71     12740\n",
      "weighted avg       0.71      0.71      0.71     12740\n",
      "\n",
      "Test Data\n",
      "               precision    recall  f1-score   support\n",
      "\n",
      "           0       0.73      0.70      0.71      1613\n",
      "           1       0.70      0.73      0.72      1573\n",
      "\n",
      "    accuracy                           0.72      3186\n",
      "   macro avg       0.72      0.72      0.72      3186\n",
      "weighted avg       0.72      0.72      0.72      3186\n",
      "\n",
      "0.7851491911121061\n",
      "log_loss\n",
      "0.5598073328091095\n"
     ]
    },
    {
     "data": {
      "image/png": "[encoded data removed]",
      "text/plain": [
       "<Figure size 432x288 with 1 Axes>"
      ]
     },
     "metadata": {
      "needs_background": "light"
     },
     "output_type": "display_data"
    }
   ],
   "source": [
    "smodel_building(lreg)\n",
    "sroc_auc_curve(lreg)\n",
    "print(scalculate_logloss(lreg))"
   ]
  },
  {
   "cell_type": "markdown",
   "id": "608ba59a",
   "metadata": {},
   "source": [
    "# Decision Tree Classifier Model"
   ]
  },
  {
   "cell_type": "code",
   "execution_count": 72,
   "id": "d1754ecd",
   "metadata": {},
   "outputs": [
    {
     "name": "stdout",
     "output_type": "stream",
     "text": [
      "DecisionTreeClassifier()\n",
      "Train Data\n",
      "               precision    recall  f1-score   support\n",
      "\n",
      "           0       1.00      1.00      1.00      6350\n",
      "           1       1.00      1.00      1.00      6390\n",
      "\n",
      "    accuracy                           1.00     12740\n",
      "   macro avg       1.00      1.00      1.00     12740\n",
      "weighted avg       1.00      1.00      1.00     12740\n",
      "\n",
      "Test Data\n",
      "               precision    recall  f1-score   support\n",
      "\n",
      "           0       0.87      0.87      0.87      1613\n",
      "           1       0.87      0.86      0.87      1573\n",
      "\n",
      "    accuracy                           0.87      3186\n",
      "   macro avg       0.87      0.87      0.87      3186\n",
      "weighted avg       0.87      0.87      0.87      3186\n",
      "\n",
      "0.868725142861422\n",
      "log_loss\n",
      "4.531503468849205\n"
     ]
    },
    {
     "data": {
      "image/png": "[encoded data removed]",
      "text/plain": [
       "<Figure size 432x288 with 1 Axes>"
      ]
     },
     "metadata": {
      "needs_background": "light"
     },
     "output_type": "display_data"
    }
   ],
   "source": [
    "model_building(dt)\n",
    "roc_auc_curve(dt)\n",
    "print(calculate_logloss(dt))"
   ]
  },
  {
   "cell_type": "markdown",
   "id": "aed785b9",
   "metadata": {},
   "source": [
    "# Random Forest Model"
   ]
  },
  {
   "cell_type": "code",
   "execution_count": 73,
   "id": "f4ade745",
   "metadata": {},
   "outputs": [
    {
     "name": "stdout",
     "output_type": "stream",
     "text": [
      "RandomForestClassifier()\n",
      "Train Data\n",
      "               precision    recall  f1-score   support\n",
      "\n",
      "           0       1.00      1.00      1.00      6350\n",
      "           1       1.00      1.00      1.00      6390\n",
      "\n",
      "    accuracy                           1.00     12740\n",
      "   macro avg       1.00      1.00      1.00     12740\n",
      "weighted avg       1.00      1.00      1.00     12740\n",
      "\n",
      "Test Data\n",
      "               precision    recall  f1-score   support\n",
      "\n",
      "           0       0.88      0.95      0.91      1613\n",
      "           1       0.94      0.87      0.90      1573\n",
      "\n",
      "    accuracy                           0.91      3186\n",
      "   macro avg       0.91      0.91      0.91      3186\n",
      "weighted avg       0.91      0.91      0.91      3186\n",
      "\n",
      "0.9654968826473082\n",
      "log_loss\n",
      "0.26080358190385694\n"
     ]
    },
    {
     "data": {
      "image/png": "[encoded data removed]",
      "text/plain": [
       "<Figure size 432x288 with 1 Axes>"
      ]
     },
     "metadata": {
      "needs_background": "light"
     },
     "output_type": "display_data"
    }
   ],
   "source": [
    "model_building(rf)\n",
    "roc_auc_curve(rf)\n",
    "print(calculate_logloss(rf))"
   ]
  },
  {
   "cell_type": "markdown",
   "id": "8a917c6d",
   "metadata": {},
   "source": [
    "# Ada- Boost-Classifier Model"
   ]
  },
  {
   "cell_type": "code",
   "execution_count": 74,
   "id": "541f4535",
   "metadata": {},
   "outputs": [
    {
     "name": "stdout",
     "output_type": "stream",
     "text": [
      "AdaBoostClassifier()\n",
      "Train Data\n",
      "               precision    recall  f1-score   support\n",
      "\n",
      "           0       0.87      0.92      0.90      6350\n",
      "           1       0.92      0.87      0.89      6390\n",
      "\n",
      "    accuracy                           0.89     12740\n",
      "   macro avg       0.89      0.89      0.89     12740\n",
      "weighted avg       0.89      0.89      0.89     12740\n",
      "\n",
      "Test Data\n",
      "               precision    recall  f1-score   support\n",
      "\n",
      "           0       0.87      0.93      0.90      1613\n",
      "           1       0.92      0.86      0.89      1573\n",
      "\n",
      "    accuracy                           0.89      3186\n",
      "   macro avg       0.90      0.89      0.89      3186\n",
      "weighted avg       0.90      0.89      0.89      3186\n",
      "\n",
      "0.9584530331867309\n",
      "log_loss\n",
      "0.6638361761969389\n"
     ]
    },
    {
     "data": {
      "image/png": "[encoded data removed]",
      "text/plain": [
       "<Figure size 432x288 with 1 Axes>"
      ]
     },
     "metadata": {
      "needs_background": "light"
     },
     "output_type": "display_data"
    }
   ],
   "source": [
    "model_building(ad)\n",
    "roc_auc_curve(ad)\n",
    "print(calculate_logloss(ad))"
   ]
  },
  {
   "cell_type": "markdown",
   "id": "7839c853",
   "metadata": {},
   "source": [
    "# Gradient-Boosting-Classifier Model"
   ]
  },
  {
   "cell_type": "code",
   "execution_count": 75,
   "id": "571d8582",
   "metadata": {},
   "outputs": [
    {
     "name": "stdout",
     "output_type": "stream",
     "text": [
      "GradientBoostingClassifier()\n",
      "Train Data\n",
      "               precision    recall  f1-score   support\n",
      "\n",
      "           0       0.88      0.95      0.91      6350\n",
      "           1       0.94      0.87      0.90      6390\n",
      "\n",
      "    accuracy                           0.91     12740\n",
      "   macro avg       0.91      0.91      0.91     12740\n",
      "weighted avg       0.91      0.91      0.91     12740\n",
      "\n",
      "Test Data\n",
      "               precision    recall  f1-score   support\n",
      "\n",
      "           0       0.87      0.95      0.91      1613\n",
      "           1       0.94      0.85      0.90      1573\n",
      "\n",
      "    accuracy                           0.90      3186\n",
      "   macro avg       0.91      0.90      0.90      3186\n",
      "weighted avg       0.91      0.90      0.90      3186\n",
      "\n",
      "0.964298931638164\n",
      "log_loss\n",
      "0.23656066299843032\n"
     ]
    },
    {
     "data": {
      "image/png": "[encoded data removed]",
      "text/plain": [
       "<Figure size 432x288 with 1 Axes>"
      ]
     },
     "metadata": {
      "needs_background": "light"
     },
     "output_type": "display_data"
    }
   ],
   "source": [
    "model_building(gd)\n",
    "roc_auc_curve(gd)\n",
    "print(calculate_logloss(gd))"
   ]
  },
  {
   "cell_type": "markdown",
   "id": "5105c3fb",
   "metadata": {},
   "source": [
    "# XGBClassifier Model"
   ]
  },
  {
   "cell_type": "code",
   "execution_count": 76,
   "id": "a42a8a81",
   "metadata": {},
   "outputs": [
    {
     "name": "stdout",
     "output_type": "stream",
     "text": [
      "XGBClassifier(base_score=None, booster=None, callbacks=None,\n",
      "              colsample_bylevel=None, colsample_bynode=None,\n",
      "              colsample_bytree=None, early_stopping_rounds=None,\n",
      "              enable_categorical=False, eval_metric=None, feature_types=None,\n",
      "              gamma=None, gpu_id=None, grow_policy=None, importance_type=None,\n",
      "              interaction_constraints=None, learning_rate=None, max_bin=None,\n",
      "              max_cat_threshold=None, max_cat_to_onehot=None,\n",
      "              max_delta_step=None, max_depth=None, max_leaves=None,\n",
      "              min_child_weight=None, missing=nan, monotone_constraints=None,\n",
      "              n_estimators=100, n_jobs=None, num_parallel_tree=None,\n",
      "              predictor=None, random_state=None, ...)\n",
      "Train Data\n",
      "               precision    recall  f1-score   support\n",
      "\n",
      "           0       0.94      0.99      0.97      6350\n",
      "           1       0.99      0.94      0.96      6390\n",
      "\n",
      "    accuracy                           0.97     12740\n",
      "   macro avg       0.97      0.97      0.97     12740\n",
      "weighted avg       0.97      0.97      0.97     12740\n",
      "\n",
      "Test Data\n",
      "               precision    recall  f1-score   support\n",
      "\n",
      "           0       0.88      0.94      0.91      1613\n",
      "           1       0.93      0.87      0.90      1573\n",
      "\n",
      "    accuracy                           0.90      3186\n",
      "   macro avg       0.90      0.90      0.90      3186\n",
      "weighted avg       0.90      0.90      0.90      3186\n",
      "\n",
      "0.9619796874488866\n",
      "log_loss\n",
      "0.22911897065434075\n"
     ]
    },
    {
     "data": {
      "image/png": "[encoded data removed]",
      "text/plain": [
       "<Figure size 432x288 with 1 Axes>"
      ]
     },
     "metadata": {
      "needs_background": "light"
     },
     "output_type": "display_data"
    }
   ],
   "source": [
    "model_building(xg)\n",
    "roc_auc_curve(xg)\n",
    "print(calculate_logloss(xg))"
   ]
  },
  {
   "cell_type": "markdown",
   "id": "2bafb9b1",
   "metadata": {},
   "source": [
    "# All MODELS PERFORMANCE COMPARISON"
   ]
  },
  {
   "cell_type": "code",
   "execution_count": 77,
   "id": "5b24359e",
   "metadata": {},
   "outputs": [],
   "source": [
    "Models= [\"k-Nearest Neighbors\",\"Logistic Regression\" ,\"Decision Tree Classifier\", \"Random forest Classifier\" ,\n",
    "        \"Ada-Boosting Classifier\", \"Gradiant- Bossting Classifier\", \"XGBclassifier\"]"
   ]
  },
  {
   "cell_type": "code",
   "execution_count": 78,
   "id": "5348e248",
   "metadata": {},
   "outputs": [],
   "source": [
    "df = pd.DataFrame({\"Algorithms\":Models,\n",
    "                   \"Training Score\":Training_score,\n",
    "                   \"Testing Score\":Testing_score,\n",
    "                  \"log_loss\": log_l})"
   ]
  },
  {
   "cell_type": "code",
   "execution_count": 79,
   "id": "6ed8ae79",
   "metadata": {},
   "outputs": [
    {
     "data": {
      "text/html": [
       "<div>\n",
       "<style scoped>\n",
       "    .dataframe tbody tr th:only-of-type {\n",
       "        vertical-align: middle;\n",
       "    }\n",
       "\n",
       "    .dataframe tbody tr th {\n",
       "        vertical-align: top;\n",
       "    }\n",
       "\n",
       "    .dataframe thead th {\n",
       "        text-align: right;\n",
       "    }\n",
       "</style>\n",
       "<table border=\"1\" class=\"dataframe\">\n",
       "  <thead>\n",
       "    <tr style=\"text-align: right;\">\n",
       "      <th></th>\n",
       "      <th>Algorithms</th>\n",
       "      <th>Training Score</th>\n",
       "      <th>Testing Score</th>\n",
       "      <th>log_loss</th>\n",
       "    </tr>\n",
       "  </thead>\n",
       "  <tbody>\n",
       "    <tr>\n",
       "      <th>0</th>\n",
       "      <td>k-Nearest Neighbors</td>\n",
       "      <td>0.931790</td>\n",
       "      <td>0.851538</td>\n",
       "      <td>1.600906</td>\n",
       "    </tr>\n",
       "    <tr>\n",
       "      <th>1</th>\n",
       "      <td>Logistic Regression</td>\n",
       "      <td>0.708556</td>\n",
       "      <td>0.716573</td>\n",
       "      <td>0.559807</td>\n",
       "    </tr>\n",
       "    <tr>\n",
       "      <th>2</th>\n",
       "      <td>Decision Tree Classifier</td>\n",
       "      <td>1.000000</td>\n",
       "      <td>0.868801</td>\n",
       "      <td>4.531503</td>\n",
       "    </tr>\n",
       "    <tr>\n",
       "      <th>3</th>\n",
       "      <td>Random forest Classifier</td>\n",
       "      <td>1.000000</td>\n",
       "      <td>0.907407</td>\n",
       "      <td>0.260804</td>\n",
       "    </tr>\n",
       "    <tr>\n",
       "      <th>4</th>\n",
       "      <td>Ada-Boosting Classifier</td>\n",
       "      <td>0.893171</td>\n",
       "      <td>0.893597</td>\n",
       "      <td>0.663836</td>\n",
       "    </tr>\n",
       "    <tr>\n",
       "      <th>5</th>\n",
       "      <td>Gradiant- Bossting Classifier</td>\n",
       "      <td>0.908163</td>\n",
       "      <td>0.902072</td>\n",
       "      <td>0.236561</td>\n",
       "    </tr>\n",
       "    <tr>\n",
       "      <th>6</th>\n",
       "      <td>XGBclassifier</td>\n",
       "      <td>0.965463</td>\n",
       "      <td>0.902385</td>\n",
       "      <td>0.229119</td>\n",
       "    </tr>\n",
       "  </tbody>\n",
       "</table>\n",
       "</div>"
      ],
      "text/plain": [
       "                      Algorithms  Training Score  Testing Score  log_loss\n",
       "0            k-Nearest Neighbors        0.931790       0.851538  1.600906\n",
       "1            Logistic Regression        0.708556       0.716573  0.559807\n",
       "2       Decision Tree Classifier        1.000000       0.868801  4.531503\n",
       "3       Random forest Classifier        1.000000       0.907407  0.260804\n",
       "4        Ada-Boosting Classifier        0.893171       0.893597  0.663836\n",
       "5  Gradiant- Bossting Classifier        0.908163       0.902072  0.236561\n",
       "6                  XGBclassifier        0.965463       0.902385  0.229119"
      ]
     },
     "execution_count": 79,
     "metadata": {},
     "output_type": "execute_result"
    }
   ],
   "source": [
    "df"
   ]
  },
  {
   "cell_type": "markdown",
   "id": "80be6df1",
   "metadata": {},
   "source": [
    "On the Basis of above performance table of all the algorithms, We are going to select 2 top performing \n",
    "algorithms while testing.\n",
    "\n",
    "Top performing algorithms are :\n",
    "\n",
    "    1.  Random forest classifier with test accuracy - 0.87 and  logloss - 0.320721\n",
    "    \n",
    "    2.  XGBclassifier with test accuracy - 0.90 and log loss- 0.243680"
   ]
  },
  {
   "cell_type": "markdown",
   "id": "7f7641bb",
   "metadata": {},
   "source": [
    "# HyperTuning of Random Forest Classifier"
   ]
  },
  {
   "cell_type": "code",
   "execution_count": 80,
   "id": "9b53294c",
   "metadata": {},
   "outputs": [],
   "source": [
    "Training_score_final= []\n",
    "Testing_score_final= []\n",
    "def model_building_final(model):\n",
    "    model.fit(xtrain, ytrain)\n",
    "    ytrain_pred= model.predict(xtrain)\n",
    "    ytest_pred= model.predict(xtest)\n",
    "    a= accuracy_score(ytrain, ytrain_pred)\n",
    "    b= accuracy_score(ytest, ytest_pred)\n",
    "    Training_score_final.append(a)\n",
    "    Testing_score_final.append(b)\n",
    "    print(model)\n",
    "    print(\"Train Data\\n\", classification_report(ytrain,ytrain_pred))\n",
    "    print(\"Test Data\\n\", classification_report(ytest,ytest_pred))\n",
    "def roc_auc_curve(model):\n",
    "    ytest_proba= model.predict_proba(xtest)\n",
    "    fpr, tpr, threshold= roc_curve(ytest, ytest_proba[:, 1])\n",
    "    roc_score= roc_auc_score(ytest, ytest_proba[:, 1])\n",
    "    sns.lineplot(x= fpr, y= tpr)\n",
    "    sns.lineplot(x= [0.0, 1.0], y= [0.0, 1.0], color = \"red\", linestyle= \"--\")\n",
    "    plt.xlabel(\"FPR\")\n",
    "    plt.ylabel(\"TPR\")\n",
    "    plt.title(\"ROC-AUC CURVE\",fontweight=\"black\",pad=20,size=15)\n",
    "    print(roc_score)\n",
    "log_l_final=[]\n",
    "def calculate_logloss(model):\n",
    "    print(\"log_loss\")\n",
    "    ytest_proba= model.predict_proba(xtest)\n",
    "    logloss= log_loss(ytest, ytest_proba[:, -1])\n",
    "    log_l_final.append(logloss)\n",
    "    return logloss"
   ]
  },
  {
   "cell_type": "code",
   "execution_count": 81,
   "id": "43d91916",
   "metadata": {},
   "outputs": [],
   "source": [
    "random_forest_params = {\n",
    "    'n_estimators': [25,50,75,100],\n",
    "    'max_depth': [2, 3, 5, 10, 20],\n",
    "    'min_samples_leaf': [5, 10, 20, 50, 100],\n",
    "    'min_samples_split': [2, 5, 10],\n",
    "    'criterion': [\"gini\", \"entropy\"],\n",
    "    'max_features': ['auto', 'sqrt'],\n",
    "    'bootstrap': [True, False]\n",
    "}"
   ]
  },
  {
   "cell_type": "code",
   "execution_count": 82,
   "id": "f3cdf734",
   "metadata": {
    "scrolled": true
   },
   "outputs": [],
   "source": [
    "rf_reg = RandomizedSearchCV(rf, param_distributions= random_forest_params, cv= 5, n_jobs= -1 , scoring = \"accuracy\", random_state=42)"
   ]
  },
  {
   "cell_type": "code",
   "execution_count": 83,
   "id": "cc038249",
   "metadata": {},
   "outputs": [
    {
     "name": "stdout",
     "output_type": "stream",
     "text": [
      "RandomizedSearchCV(cv=5, estimator=RandomForestClassifier(), n_jobs=-1,\n",
      "                   param_distributions={'bootstrap': [True, False],\n",
      "                                        'criterion': ['gini', 'entropy'],\n",
      "                                        'max_depth': [2, 3, 5, 10, 20],\n",
      "                                        'max_features': ['auto', 'sqrt'],\n",
      "                                        'min_samples_leaf': [5, 10, 20, 50,\n",
      "                                                             100],\n",
      "                                        'min_samples_split': [2, 5, 10],\n",
      "                                        'n_estimators': [25, 50, 75, 100]},\n",
      "                   random_state=42, scoring='accuracy')\n",
      "Train Data\n",
      "               precision    recall  f1-score   support\n",
      "\n",
      "           0       0.90      0.97      0.93      6350\n",
      "           1       0.96      0.89      0.92      6390\n",
      "\n",
      "    accuracy                           0.93     12740\n",
      "   macro avg       0.93      0.93      0.93     12740\n",
      "weighted avg       0.93      0.93      0.93     12740\n",
      "\n",
      "Test Data\n",
      "               precision    recall  f1-score   support\n",
      "\n",
      "           0       0.87      0.94      0.91      1613\n",
      "           1       0.94      0.86      0.89      1573\n",
      "\n",
      "    accuracy                           0.90      3186\n",
      "   macro avg       0.90      0.90      0.90      3186\n",
      "weighted avg       0.90      0.90      0.90      3186\n",
      "\n",
      "0.9643684951693744\n",
      "log_loss\n"
     ]
    },
    {
     "data": {
      "text/plain": [
       "0.25107598317264496"
      ]
     },
     "execution_count": 83,
     "metadata": {},
     "output_type": "execute_result"
    },
    {
     "data": {
      "image/png": "[encoded data removed]",
      "text/plain": [
       "<Figure size 432x288 with 1 Axes>"
      ]
     },
     "metadata": {
      "needs_background": "light"
     },
     "output_type": "display_data"
    }
   ],
   "source": [
    "model_building_final(rf_reg)\n",
    "roc_auc_curve(rf_reg)\n",
    "calculate_logloss(rf_reg)"
   ]
  },
  {
   "cell_type": "markdown",
   "id": "ce0c50d2",
   "metadata": {},
   "source": [
    "## Hyperparameter tuning of XGBoosting Classifier"
   ]
  },
  {
   "cell_type": "code",
   "execution_count": 84,
   "id": "416b4435",
   "metadata": {},
   "outputs": [],
   "source": [
    "param_grid = {\n",
    "    'learning_rate': [0.1, 0.01, 0.001],\n",
    "    'max_depth': [3, 5, 7],\n",
    "    'n_estimators': [100, 200, 300],\n",
    "    'subsample': [0.8, 0.9, 1.0]\n",
    "}"
   ]
  },
  {
   "cell_type": "code",
   "execution_count": 85,
   "id": "518def70",
   "metadata": {},
   "outputs": [],
   "source": [
    "xg_rs = RandomizedSearchCV(xg, param_distributions= param_grid, cv= 5, n_jobs= -1 , scoring = \"accuracy\" , random_state=42)"
   ]
  },
  {
   "cell_type": "code",
   "execution_count": 86,
   "id": "426b21a8",
   "metadata": {},
   "outputs": [
    {
     "name": "stdout",
     "output_type": "stream",
     "text": [
      "RandomizedSearchCV(cv=5,\n",
      "                   estimator=XGBClassifier(base_score=None, booster=None,\n",
      "                                           callbacks=None,\n",
      "                                           colsample_bylevel=None,\n",
      "                                           colsample_bynode=None,\n",
      "                                           colsample_bytree=None,\n",
      "                                           early_stopping_rounds=None,\n",
      "                                           enable_categorical=False,\n",
      "                                           eval_metric=None, feature_types=None,\n",
      "                                           gamma=None, gpu_id=None,\n",
      "                                           grow_policy=None,\n",
      "                                           importance_type=None,\n",
      "                                           interaction_constraints=None,\n",
      "                                           learning_rate...\n",
      "                                           max_delta_step=None, max_depth=None,\n",
      "                                           max_leaves=None,\n",
      "                                           min_child_weight=None, missing=nan,\n",
      "                                           monotone_constraints=None,\n",
      "                                           n_estimators=100, n_jobs=None,\n",
      "                                           num_parallel_tree=None,\n",
      "                                           predictor=None, random_state=None, ...),\n",
      "                   n_jobs=-1,\n",
      "                   param_distributions={'learning_rate': [0.1, 0.01, 0.001],\n",
      "                                        'max_depth': [3, 5, 7],\n",
      "                                        'n_estimators': [100, 200, 300],\n",
      "                                        'subsample': [0.8, 0.9, 1.0]},\n",
      "                   random_state=42, scoring='accuracy')\n",
      "Train Data\n",
      "               precision    recall  f1-score   support\n",
      "\n",
      "           0       0.91      0.98      0.94      6350\n",
      "           1       0.97      0.91      0.94      6390\n",
      "\n",
      "    accuracy                           0.94     12740\n",
      "   macro avg       0.94      0.94      0.94     12740\n",
      "weighted avg       0.94      0.94      0.94     12740\n",
      "\n",
      "Test Data\n",
      "               precision    recall  f1-score   support\n",
      "\n",
      "           0       0.88      0.95      0.91      1613\n",
      "           1       0.95      0.87      0.90      1573\n",
      "\n",
      "    accuracy                           0.91      3186\n",
      "   macro avg       0.91      0.91      0.91      3186\n",
      "weighted avg       0.91      0.91      0.91      3186\n",
      "\n",
      "0.9669043125053947\n",
      "log_loss\n"
     ]
    },
    {
     "data": {
      "text/plain": [
       "0.215498511359796"
      ]
     },
     "execution_count": 86,
     "metadata": {},
     "output_type": "execute_result"
    },
    {
     "data": {
      "image/png": "[encoded data removed]",
      "text/plain": [
       "<Figure size 432x288 with 1 Axes>"
      ]
     },
     "metadata": {
      "needs_background": "light"
     },
     "output_type": "display_data"
    }
   ],
   "source": [
    "model_building_final(xg_rs)\n",
    "roc_auc_curve(xg_rs)\n",
    "calculate_logloss(xg_rs)"
   ]
  },
  {
   "cell_type": "code",
   "execution_count": 87,
   "id": "9c04b544",
   "metadata": {},
   "outputs": [],
   "source": [
    "df = pd.DataFrame({\"Algorithms\":[ \"Random forest Classifier\",\"XGBclassifier\" ],\n",
    "                   \"Training Score\":Training_score_final,\n",
    "                   \"Testing Score\":Testing_score_final,\n",
    "                  \"log_loss\": log_l_final})"
   ]
  },
  {
   "cell_type": "code",
   "execution_count": 88,
   "id": "64b176ec",
   "metadata": {
    "scrolled": true
   },
   "outputs": [
    {
     "data": {
      "text/html": [
       "<div>\n",
       "<style scoped>\n",
       "    .dataframe tbody tr th:only-of-type {\n",
       "        vertical-align: middle;\n",
       "    }\n",
       "\n",
       "    .dataframe tbody tr th {\n",
       "        vertical-align: top;\n",
       "    }\n",
       "\n",
       "    .dataframe thead th {\n",
       "        text-align: right;\n",
       "    }\n",
       "</style>\n",
       "<table border=\"1\" class=\"dataframe\">\n",
       "  <thead>\n",
       "    <tr style=\"text-align: right;\">\n",
       "      <th></th>\n",
       "      <th>Algorithms</th>\n",
       "      <th>Training Score</th>\n",
       "      <th>Testing Score</th>\n",
       "      <th>log_loss</th>\n",
       "    </tr>\n",
       "  </thead>\n",
       "  <tbody>\n",
       "    <tr>\n",
       "      <th>0</th>\n",
       "      <td>Random forest Classifier</td>\n",
       "      <td>0.927551</td>\n",
       "      <td>0.900502</td>\n",
       "      <td>0.251076</td>\n",
       "    </tr>\n",
       "    <tr>\n",
       "      <th>1</th>\n",
       "      <td>XGBclassifier</td>\n",
       "      <td>0.941130</td>\n",
       "      <td>0.908977</td>\n",
       "      <td>0.215499</td>\n",
       "    </tr>\n",
       "  </tbody>\n",
       "</table>\n",
       "</div>"
      ],
      "text/plain": [
       "                 Algorithms  Training Score  Testing Score  log_loss\n",
       "0  Random forest Classifier        0.927551       0.900502  0.251076\n",
       "1             XGBclassifier        0.941130       0.908977  0.215499"
      ]
     },
     "execution_count": 88,
     "metadata": {},
     "output_type": "execute_result"
    }
   ],
   "source": [
    "df"
   ]
  },
  {
   "cell_type": "code",
   "execution_count": 89,
   "id": "43fcf01d",
   "metadata": {},
   "outputs": [],
   "source": [
    "pickle.dump(xg_rs, open(\"model.pkl\", \"wb\"))\n",
    "pickle.dump(ct, open(\"coltranform.pkl\", \"wb\"))"
   ]
  },
  {
   "cell_type": "code",
   "execution_count": 90,
   "id": "58421bb8",
   "metadata": {},
   "outputs": [
    {
     "name": "stdout",
     "output_type": "stream",
     "text": [
      "1.21.5\n"
     ]
    }
   ],
   "source": [
    "print(np.__version__)"
   ]
  },
  {
   "cell_type": "code",
   "execution_count": 109,
   "id": "94bf43a8",
   "metadata": {},
   "outputs": [],
   "source": [
    "p= pd.DataFrame(data= [[502,\"France\", \"Female\",42 , 8 ,159660.80,3,1,0,113931.57]],\n",
    "                     columns=[\"CreditScore\",\"Geography\", \"Gender\",\"Age\" , \"Tenure\" ,\"Balance\",\"NumOfProducts\",\"HasCrCard\",\"IsActiveMember\",\"EstimatedSalary\"])"
   ]
  },
  {
   "cell_type": "code",
   "execution_count": 110,
   "id": "ed5c32f7",
   "metadata": {},
   "outputs": [
    {
     "data": {
      "text/html": [
       "<div>\n",
       "<style scoped>\n",
       "    .dataframe tbody tr th:only-of-type {\n",
       "        vertical-align: middle;\n",
       "    }\n",
       "\n",
       "    .dataframe tbody tr th {\n",
       "        vertical-align: top;\n",
       "    }\n",
       "\n",
       "    .dataframe thead th {\n",
       "        text-align: right;\n",
       "    }\n",
       "</style>\n",
       "<table border=\"1\" class=\"dataframe\">\n",
       "  <thead>\n",
       "    <tr style=\"text-align: right;\">\n",
       "      <th></th>\n",
       "      <th>CreditScore</th>\n",
       "      <th>Geography</th>\n",
       "      <th>Gender</th>\n",
       "      <th>Age</th>\n",
       "      <th>Tenure</th>\n",
       "      <th>Balance</th>\n",
       "      <th>NumOfProducts</th>\n",
       "      <th>HasCrCard</th>\n",
       "      <th>IsActiveMember</th>\n",
       "      <th>EstimatedSalary</th>\n",
       "    </tr>\n",
       "  </thead>\n",
       "  <tbody>\n",
       "    <tr>\n",
       "      <th>0</th>\n",
       "      <td>502</td>\n",
       "      <td>France</td>\n",
       "      <td>Female</td>\n",
       "      <td>42</td>\n",
       "      <td>8</td>\n",
       "      <td>159660.8</td>\n",
       "      <td>3</td>\n",
       "      <td>1</td>\n",
       "      <td>0</td>\n",
       "      <td>113931.57</td>\n",
       "    </tr>\n",
       "  </tbody>\n",
       "</table>\n",
       "</div>"
      ],
      "text/plain": [
       "   CreditScore Geography  Gender  Age  Tenure   Balance  NumOfProducts  \\\n",
       "0          502    France  Female   42       8  159660.8              3   \n",
       "\n",
       "   HasCrCard  IsActiveMember  EstimatedSalary  \n",
       "0          1               0        113931.57  "
      ]
     },
     "execution_count": 110,
     "metadata": {},
     "output_type": "execute_result"
    }
   ],
   "source": [
    "p"
   ]
  },
  {
   "cell_type": "code",
   "execution_count": 111,
   "id": "d5124e89",
   "metadata": {},
   "outputs": [],
   "source": [
    "p[\"Age\"]= np.log(p[\"Age\"])"
   ]
  },
  {
   "cell_type": "code",
   "execution_count": 112,
   "id": "fda8dacd",
   "metadata": {
    "scrolled": true
   },
   "outputs": [
    {
     "data": {
      "text/html": [
       "<div>\n",
       "<style scoped>\n",
       "    .dataframe tbody tr th:only-of-type {\n",
       "        vertical-align: middle;\n",
       "    }\n",
       "\n",
       "    .dataframe tbody tr th {\n",
       "        vertical-align: top;\n",
       "    }\n",
       "\n",
       "    .dataframe thead th {\n",
       "        text-align: right;\n",
       "    }\n",
       "</style>\n",
       "<table border=\"1\" class=\"dataframe\">\n",
       "  <thead>\n",
       "    <tr style=\"text-align: right;\">\n",
       "      <th></th>\n",
       "      <th>CreditScore</th>\n",
       "      <th>Geography</th>\n",
       "      <th>Gender</th>\n",
       "      <th>Age</th>\n",
       "      <th>Tenure</th>\n",
       "      <th>Balance</th>\n",
       "      <th>NumOfProducts</th>\n",
       "      <th>HasCrCard</th>\n",
       "      <th>IsActiveMember</th>\n",
       "      <th>EstimatedSalary</th>\n",
       "    </tr>\n",
       "  </thead>\n",
       "  <tbody>\n",
       "    <tr>\n",
       "      <th>0</th>\n",
       "      <td>502</td>\n",
       "      <td>France</td>\n",
       "      <td>Female</td>\n",
       "      <td>3.73767</td>\n",
       "      <td>8</td>\n",
       "      <td>159660.8</td>\n",
       "      <td>3</td>\n",
       "      <td>1</td>\n",
       "      <td>0</td>\n",
       "      <td>113931.57</td>\n",
       "    </tr>\n",
       "  </tbody>\n",
       "</table>\n",
       "</div>"
      ],
      "text/plain": [
       "   CreditScore Geography  Gender      Age  Tenure   Balance  NumOfProducts  \\\n",
       "0          502    France  Female  3.73767       8  159660.8              3   \n",
       "\n",
       "   HasCrCard  IsActiveMember  EstimatedSalary  \n",
       "0          1               0        113931.57  "
      ]
     },
     "execution_count": 112,
     "metadata": {},
     "output_type": "execute_result"
    }
   ],
   "source": [
    "p"
   ]
  },
  {
   "cell_type": "code",
   "execution_count": 113,
   "id": "eb1e5a0a",
   "metadata": {},
   "outputs": [],
   "source": [
    "p = ct.fit_transform(p)"
   ]
  },
  {
   "cell_type": "code",
   "execution_count": 114,
   "id": "c0502332",
   "metadata": {},
   "outputs": [
    {
     "data": {
      "text/plain": [
       "1"
      ]
     },
     "execution_count": 114,
     "metadata": {},
     "output_type": "execute_result"
    }
   ],
   "source": [
    "xg_rs.predict(p)[0]"
   ]
  }
 ],
 "metadata": {
  "kernelspec": {
   "display_name": "Python 3 (ipykernel)",
   "language": "python",
   "name": "python3"
  },
  "language_info": {
   "codemirror_mode": {
    "name": "ipython",
    "version": 3
   },
   "file_extension": ".py",
   "mimetype": "text/x-python",
   "name": "python",
   "nbconvert_exporter": "python",
   "pygments_lexer": "ipython3",
   "version": "3.9.12"
  }
 },
 "nbformat": 4,
 "nbformat_minor": 5
}
